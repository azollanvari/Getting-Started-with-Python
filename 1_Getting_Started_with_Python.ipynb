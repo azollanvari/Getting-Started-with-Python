{
 "cells": [
  {
   "cell_type": "markdown",
   "metadata": {
    "slideshow": {
     "slide_type": "slide"
    }
   },
   "source": [
    "# 1. Getting Started with Python\n",
    "\n",
    "This is the first of a two-part tutorial that is prepared as part of the Machine learning course that I teach in the Department of Electrical and Computer Engineering at Nazarbayev University. The purpose of the first part of this tutorial (the current notebook) is to provide a quick introduction to students who have no knowledge of Python programming but are familar with programming principles in another object oriented language; for example, they know what loops are used for or what the purpose of conditional statements is, or why we need functions, what is in general a class (a recipe for creating an object), object (instance of a class), method (the action that the object can perform), and attributes (properties of class or objects). I have tried to make the tutorial as self-contained as possible. In this regard, the students will start from the very basics in Python and work their way up to advanced topics in Python. In the second part of this tutorial, I will cover three important Python packages that are very useful for data wrangling and analysis. Therein, I specially focus on NumPy, pandas, and matplotlib. At the end of this two-part tutorial what students need is a good sense of programming that along with a search engine can do anything they want in Python. \n",
    "\n",
    "Amin Zollanvari, Ph.D.<br>\n",
    "Department of Electrical and Computer Engineering<br> \n",
    "School of Engineering and Digital Sciences<br>\n",
    "Nazarbayev University<br>\n",
    "Office: #3e542, 53 Kabanbay Batyr Avenue<br>\n",
    "Astana, Republic of Kazakhstan, 010000<br>\n",
    "***"
   ]
  },
  {
   "cell_type": "markdown",
   "metadata": {},
   "source": [
    "Throughout this tutorial we use the following conventions:"
   ]
  },
  {
   "cell_type": "markdown",
   "metadata": {},
   "source": [
    "<img align=\"left\" src=\"images/tip.png\" alt=\"drawing\" width=\"140\"/><br>\n",
    "\n",
    "<br>This symbol represents some tips/tricks<br>"
   ]
  },
  {
   "cell_type": "markdown",
   "metadata": {},
   "source": [
    "<img align=\"left\" src=\"images/try_it.png\" alt=\"drawing\" width=\"140\"/><br>\n",
    "\n",
    "<br> $\\quad$ This symbols represents an excercise. It could involve some coding and/or simply describing a mechanism. \n"
   ]
  },
  {
   "cell_type": "markdown",
   "metadata": {},
   "source": [
    "<br><font color='red'>$\\bigoplus$ Subject:</font>  This shows some extra information about the \"Subject\""
   ]
  },
  {
   "cell_type": "markdown",
   "metadata": {
    "slideshow": {
     "slide_type": "slide"
    }
   },
   "source": [
    "## 1.1 First things first: Installing what you need\n",
    "\n",
    "Install Anaconda! \n",
    "\n",
    "Anaconda is a data science platform that comes with many things you need, out of the box. It comes with a Python distribution, a package manager known as conda, and many popular data science packages and libraries such as NumPy, pandas, SciPy, scikit-learn, Jupyter Notebook, ... so that you don't need to install them manually (for example, using the \"pip\" command).\n",
    "\n",
    "To install Anaconda, go to: https://www.anaconda.com/products/individual\n",
    "\n",
    "You can also checkout this recent tutorial for installation: https://www.youtube.com/watch?v=GEYK1dlDqgU"
   ]
  },
  {
   "cell_type": "markdown",
   "metadata": {},
   "source": [
    "Once installed, you can launch Jupyter notebook to write and run your codes. It is a nice environment that allows you to write and run your codes and combine them with text, graphics, and even interactive features. In fact all lectures for this class are written in Jupyter notebooks."
   ]
  },
  {
   "cell_type": "markdown",
   "metadata": {
    "slideshow": {
     "slide_type": "slide"
    }
   },
   "source": [
    "## 1.2 Variables\n",
    "\n",
    "Python is a programming language that is *interpreted* rather than *compiled*; that is, you can run codes line by line. In a notebook, everything is part of cells. Code cells and markdown (text) cells are the most common cells. For example, the text you are now reading is in a text cell. The following cell is a code cell. To run the contents of a code cell, you can click on it and press \"shift + enter\". Try it on the following cell (you should see a 7 as the output!) "
   ]
  },
  {
   "cell_type": "code",
   "execution_count": 2,
   "metadata": {
    "slideshow": {
     "slide_type": "slide"
    }
   },
   "outputs": [
    {
     "data": {
      "text/plain": [
       "7"
      ]
     },
     "execution_count": 2,
     "metadata": {},
     "output_type": "execute_result"
    }
   ],
   "source": [
    "2 + 5"
   ]
  },
  {
   "cell_type": "markdown",
   "metadata": {
    "hide_input": true,
    "slideshow": {
     "slide_type": "slide"
    }
   },
   "source": [
    "<img align=\"left\" src=\"images/tip.png\" alt=\"drawing\" width=\"140\"/><br>\n",
    "\n",
    "* First notice that when you clicked on the above cell, a rectangle with a green bar on the left appears. This means that the cell is in \"edit\" mode so you can write codes in that cell (or simply edit if it is a Markdown cell like this cell that you are reading). <br>\n",
    "* Now if you press \"esc\" key (or \"control + M\"), this bar turns blue. This means that the cell is now in \"command\" mode so you can edit the notebook as a whole without typing in any individual cell. <br> \n",
    "* Also depending on the mode, different shortcuts are availabe. To see the list of shortcuts for different modes, press \"H\" key when the cell is in command mode; for example, some useful shortcuts in this list for command mode: press \"A\" for adding a cell above the current cell; press\"B\" for addings a cell below the current cell; press \"D\" two times to delete the current cell<br>"
   ]
  },
  {
   "cell_type": "markdown",
   "metadata": {},
   "source": [
    "Now let's look at another example:"
   ]
  },
  {
   "cell_type": "code",
   "execution_count": 228,
   "metadata": {
    "slideshow": {
     "slide_type": "slide"
    }
   },
   "outputs": [
    {
     "data": {
      "text/plain": [
       "4.4"
      ]
     },
     "execution_count": 228,
     "metadata": {},
     "output_type": "execute_result"
    }
   ],
   "source": [
    "x = 2.2    # this is a comment (use # for comments) \n",
    "y = 2\n",
    "x * y"
   ]
  },
  {
   "cell_type": "markdown",
   "metadata": {
    "slideshow": {
     "slide_type": "slide"
    }
   },
   "source": [
    "In the above example, we created two scalar variables x and y, assigned them to some values, and multiplied. There are different types of scalar variables in Python that we can use: "
   ]
  },
  {
   "cell_type": "code",
   "execution_count": 229,
   "metadata": {
    "slideshow": {
     "slide_type": "slide"
    }
   },
   "outputs": [],
   "source": [
    "x = 1        # an integer\n",
    "x = 0.3      # a floating-point \n",
    "x = 'what a nice day!' # a string \n",
    "x = True    # a boolean variable (True or False)\n",
    "x = None    # NoneType (the absence of any value)"
   ]
  },
  {
   "cell_type": "markdown",
   "metadata": {
    "slideshow": {
     "slide_type": "slide"
    }
   },
   "source": [
    "Note that in the above example, a single variable name x referred to an integer, floating-point, string... . This is why Python is known as  being *dynamically-typed*; that is, we do not need to declare variables like what is done in C (no need to specify their types) or even they do not need to always refer to the objects of the same type (and in Python *everything* is an object). This is itself a consequence of the fact that *Python variables are pointers*! In Python, an assignment statement such as x = 1, creates a pointer x that points to a memory location storing object 4 (yes, even numbers are objects!). At the same, types are attached to the objects on the right, not to the variable name on the left. So x could refer to all those values. We can see the type of a variable (the type of what is referring to) by ``type()`` method. For example,"
   ]
  },
  {
   "cell_type": "code",
   "execution_count": 4,
   "metadata": {
    "slideshow": {
     "slide_type": "slide"
    }
   },
   "outputs": [
    {
     "data": {
      "text/plain": [
       "float"
      ]
     },
     "metadata": {},
     "output_type": "display_data"
    },
    {
     "data": {
      "text/plain": [
       "bool"
      ]
     },
     "metadata": {},
     "output_type": "display_data"
    },
    {
     "data": {
      "text/plain": [
       "NoneType"
      ]
     },
     "metadata": {},
     "output_type": "display_data"
    }
   ],
   "source": [
    "x = 3.3\n",
    "display(type(x))\n",
    "x = True\n",
    "display(type(x))\n",
    "x = None\n",
    "display(type(x))"
   ]
  },
  {
   "cell_type": "markdown",
   "metadata": {},
   "source": [
    "You may even wonder what does it mean that everything is an object? Are numbers objects too? Yes. See below:"
   ]
  },
  {
   "cell_type": "code",
   "execution_count": 76,
   "metadata": {},
   "outputs": [
    {
     "data": {
      "text/plain": [
       "0"
      ]
     },
     "execution_count": 76,
     "metadata": {},
     "output_type": "execute_result"
    }
   ],
   "source": [
    "(4).imag"
   ]
  },
  {
   "cell_type": "markdown",
   "metadata": {},
   "source": [
    "In the above code we are looking into an attribute of a number that shows the imaginery part of the number in a complex domain representation. The use of paranthesis though is needed because otherwise, there will be a confusion with floating points."
   ]
  },
  {
   "cell_type": "markdown",
   "metadata": {
    "slideshow": {
     "slide_type": "slide"
    }
   },
   "source": [
    "<img align=\"left\" src=\"images/tip.png\" alt=\"drawing\" width=\"140\"/><br>\n",
    "\n",
    "* The multiple use of ``display()`` in the above cell is to display multiple desired outputs in the cell. Remove the ``display()`` methods (just keep all ``type(x)``) and observe that you will only see the last output.\n",
    "* Rather than using ``display()`` method, you can use ``print()`` function or, alternatively, add and run the following simple script somewhere above:\n",
    "                    from IPython.core.interactiveshell import InteractiveShell\n",
    "                    InteractiveShell.ast_node_interactivity = \"all\""
   ]
  },
  {
   "cell_type": "markdown",
   "metadata": {},
   "source": [
    "## 1.3 Strings"
   ]
  },
  {
   "cell_type": "markdown",
   "metadata": {},
   "source": [
    "Strings are just a sequence of characters. You can use quotes (' ') or double quotes (\" \") to create strings. This allows us to use apostrophes or quotes within a string. Here are some examples:"
   ]
  },
  {
   "cell_type": "code",
   "execution_count": 6,
   "metadata": {},
   "outputs": [
    {
     "name": "stdout",
     "output_type": "stream",
     "text": [
      "This is a string\n",
      "Well, this is 'string' too!\n",
      "Johnny said: \"How are you?\"\n"
     ]
    }
   ],
   "source": [
    "string1 = 'This is a string'\n",
    "print(string1)\n",
    "string2 = \"Well, this is 'string' too!\"\n",
    "print(string2)\n",
    "string3 = 'Johnny said: \"How are you?\"'\n",
    "print(string3)"
   ]
  },
  {
   "cell_type": "markdown",
   "metadata": {},
   "source": [
    "We can concatenate strings using (+) operator:"
   ]
  },
  {
   "cell_type": "code",
   "execution_count": 6,
   "metadata": {},
   "outputs": [
    {
     "name": "stdout",
     "output_type": "stream",
     "text": [
      "This is a string. Well, this is a string too!\n"
     ]
    }
   ],
   "source": [
    "string3 = string1 + \". \" + string2\n",
    "print(string3)"
   ]
  },
  {
   "cell_type": "markdown",
   "metadata": {},
   "source": [
    "We can use ``\\t`` and ``\\n`` to add tab or newline characters to a string:"
   ]
  },
  {
   "cell_type": "code",
   "execution_count": 7,
   "metadata": {},
   "outputs": [
    {
     "name": "stdout",
     "output_type": "stream",
     "text": [
      "Here we use a newline\n",
      "to go to the next\t line\n"
     ]
    }
   ],
   "source": [
    "print(\"Here we use a newline\\nto go to the next\\t line\")"
   ]
  },
  {
   "cell_type": "markdown",
   "metadata": {},
   "source": [
    "## 1.4 Some Important Operators\n",
    "\n",
    "### 1.4.1 Arithmetic Operators\n",
    "\n",
    "The following expressions include a list of arithmeatic operators in Python:"
   ]
  },
  {
   "cell_type": "code",
   "execution_count": 8,
   "metadata": {},
   "outputs": [
    {
     "name": "stdout",
     "output_type": "stream",
     "text": [
      "7\n",
      "3\n",
      "10\n",
      "2.5\n",
      "2\n",
      "1\n",
      "25\n"
     ]
    }
   ],
   "source": [
    "x = 5\n",
    "y = 2\n",
    "print(x + y)   # addition\n",
    "print(x - y)   # subtraction\n",
    "print(x * y)   # multiplication\n",
    "print(x / y)   # dividion\n",
    "print(x // y)  # floor division (removing fractional parts)\n",
    "print(x % y)   # modulus (integer remanider of division)\n",
    "print(x ** y)  # x to the power of y"
   ]
  },
  {
   "cell_type": "markdown",
   "metadata": {},
   "source": [
    "In the example above, change ``x = 5`` to ``x = 5.1`` and see how the results change. Specically, you will notice rounding error (see https://floating-point-gui.de/basic/ for more info)"
   ]
  },
  {
   "cell_type": "markdown",
   "metadata": {},
   "source": [
    "### 1.4.2 Relational and Logical Operators\n",
    "\n",
    "The following expressions include a list of relational and logical operators in Python:"
   ]
  },
  {
   "cell_type": "code",
   "execution_count": 9,
   "metadata": {},
   "outputs": [
    {
     "name": "stdout",
     "output_type": "stream",
     "text": [
      "False\n",
      "True\n",
      "True\n",
      "False\n",
      "True\n",
      "False\n",
      "False\n"
     ]
    }
   ],
   "source": [
    "print(x < 5)   # less than (> greater than)\n",
    "print(x <= 5)   # less than or equal to (>= greater than or equal to)\n",
    "print(x == 5)  # equal to\n",
    "print(x != 5)  # not equal to\n",
    "print((x > 4) and (y < 3)) # \"and\" keyword is used for logical and (it is highlighted to be distinguished from other texts)\n",
    "print((x < 4) or (y > 3))  # \"or\" keyword is used for logical or\n",
    "print(not (x > 4))         # \"not\" keyword is used for logical not"
   ]
  },
  {
   "cell_type": "markdown",
   "metadata": {},
   "source": [
    "### 1.4.3 Membership Operators <a id='member'></a>\n",
    "\n",
    "It is used to check whether an element is present within a collection of data items. By collection, we refer to various (ordered or unordered) data structures such as lists, sets, tuples, dictionaries, .. (next we discuss these data structures). Let's see some examples:"
   ]
  },
  {
   "cell_type": "code",
   "execution_count": 10,
   "metadata": {},
   "outputs": [
    {
     "name": "stdout",
     "output_type": "stream",
     "text": [
      "True\n",
      "False\n",
      "True\n"
     ]
    }
   ],
   "source": [
    "print('Hello' in 'HelloWorlds!') # 'HelloWorlds!' is a string and 'Hello' is part of that\n",
    "print('Hello' in 'HellOWorlds!')\n",
    "print(320 in ['Hi', 320, False, 'Hello'])"
   ]
  },
  {
   "cell_type": "markdown",
   "metadata": {},
   "source": [
    "## 1.5 Built-in Data Structures \n",
    "\n",
    "Python has a number of built-in data structures that are used to store multiple data items as separate enteries. \n",
    "\n",
    "### 1.5.1 Lists\n",
    "\n",
    "Perhaps the most basic collection is a *list*. A list is used to store a *sequence* of objects (so it is ordered). It is created by a sequence of comma-separated objects within [  ]:"
   ]
  },
  {
   "cell_type": "code",
   "execution_count": 5,
   "metadata": {},
   "outputs": [
    {
     "data": {
      "text/plain": [
       "5"
      ]
     },
     "execution_count": 5,
     "metadata": {},
     "output_type": "execute_result"
    }
   ],
   "source": [
    "x = [5, 3.0, 10, 200.2]\n",
    "x[0]  # note that the index starts from 0"
   ]
  },
  {
   "cell_type": "markdown",
   "metadata": {},
   "source": [
    "Lists can contain objects of any data types:"
   ]
  },
  {
   "cell_type": "code",
   "execution_count": 11,
   "metadata": {},
   "outputs": [
    {
     "data": {
      "text/plain": [
       "[34, False]"
      ]
     },
     "execution_count": 11,
     "metadata": {},
     "output_type": "execute_result"
    }
   ],
   "source": [
    "x = ['JupytherNB', 75, None, True, [34, False], 2, 75] # observe that this list, for example, contains another list too\n",
    "x[4]"
   ]
  },
  {
   "cell_type": "markdown",
   "metadata": {},
   "source": [
    "In addition lists are *mutable*, which means they can be modified after they are created. For example<a id='listmod'></a>,"
   ]
  },
  {
   "cell_type": "code",
   "execution_count": 12,
   "metadata": {},
   "outputs": [
    {
     "data": {
      "text/plain": [
       "['JupytherNB', 75, None, True, 52, 2, 75]"
      ]
     },
     "execution_count": 12,
     "metadata": {},
     "output_type": "execute_result"
    }
   ],
   "source": [
    "x[4] = 52 # here we change one element of list x\n",
    "x"
   ]
  },
  {
   "cell_type": "markdown",
   "metadata": {},
   "source": [
    "We can use a number of functions and methods with a list:"
   ]
  },
  {
   "cell_type": "code",
   "execution_count": 13,
   "metadata": {},
   "outputs": [
    {
     "data": {
      "text/plain": [
       "7"
      ]
     },
     "execution_count": 13,
     "metadata": {},
     "output_type": "execute_result"
    }
   ],
   "source": [
    "len(x) # here we use a built-in function to return the length of a list"
   ]
  },
  {
   "cell_type": "code",
   "execution_count": 14,
   "metadata": {},
   "outputs": [
    {
     "name": "stdout",
     "output_type": "stream",
     "text": [
      "['JupytherNB', 75, None, True, 52, 2, 75, 9, 0, 4, 2]\n",
      "[9, 0, 4, 2, 9, 0, 4, 2, 9, 0, 4, 2]\n"
     ]
    }
   ],
   "source": [
    "y = [9, 0, 4, 2]\n",
    "print(x + y) # to concatenate two lists, + operator is used\n",
    "print(y * 3) # to concatenate multiple copies of the same list, * operator is used"
   ]
  },
  {
   "cell_type": "code",
   "execution_count": 15,
   "metadata": {},
   "outputs": [
    {
     "data": {
      "text/plain": [
       "[[9, 0, 4, 2], ['JupytherNB', 75, None, True, 52, 2, 75]]"
      ]
     },
     "execution_count": 15,
     "metadata": {},
     "output_type": "execute_result"
    }
   ],
   "source": [
    "z = [y, x] # to nest lists to create another list\n",
    "z"
   ]
  },
  {
   "cell_type": "markdown",
   "metadata": {},
   "source": [
    "#### Accessing the elements of a list: indexing and slicing"
   ]
  },
  {
   "cell_type": "markdown",
   "metadata": {},
   "source": [
    "We can use *indexing* to access an element within a list (we already used it above):"
   ]
  },
  {
   "cell_type": "code",
   "execution_count": 16,
   "metadata": {},
   "outputs": [
    {
     "data": {
      "text/plain": [
       "True"
      ]
     },
     "execution_count": 16,
     "metadata": {},
     "output_type": "execute_result"
    }
   ],
   "source": [
    "x[3]"
   ]
  },
  {
   "cell_type": "markdown",
   "metadata": {},
   "source": [
    "To access the elements of nested lists (list of lists), you need to separate the indecis with square brackets:"
   ]
  },
  {
   "cell_type": "code",
   "execution_count": 17,
   "metadata": {},
   "outputs": [
    {
     "data": {
      "text/plain": [
       "'JupytherNB'"
      ]
     },
     "execution_count": 17,
     "metadata": {},
     "output_type": "execute_result"
    }
   ],
   "source": [
    "z[1][0] # this way we access the second list within z and within that we access the first element"
   ]
  },
  {
   "cell_type": "code",
   "execution_count": 18,
   "metadata": {},
   "outputs": [
    {
     "data": {
      "text/plain": [
       "75"
      ]
     },
     "execution_count": 18,
     "metadata": {},
     "output_type": "execute_result"
    }
   ],
   "source": [
    "x[-1] # index -1 return the last item in the list; -2 returns the second item from the end, and so forth"
   ]
  },
  {
   "cell_type": "code",
   "execution_count": 19,
   "metadata": {},
   "outputs": [
    {
     "data": {
      "text/plain": [
       "2"
      ]
     },
     "execution_count": 19,
     "metadata": {},
     "output_type": "execute_result"
    }
   ],
   "source": [
    "x[-2]"
   ]
  },
  {
   "cell_type": "markdown",
   "metadata": {},
   "source": [
    "We can use *slicing* to access multiple elements in a sub-list. For this purpose, we use a colon to specify the start point (**inclusive**) and end point (**non-inclusive**) of the sub-list. For example:"
   ]
  },
  {
   "cell_type": "code",
   "execution_count": 20,
   "metadata": {},
   "outputs": [
    {
     "data": {
      "text/plain": [
       "['JupytherNB', 75, None, True]"
      ]
     },
     "execution_count": 20,
     "metadata": {},
     "output_type": "execute_result"
    }
   ],
   "source": [
    "x[0:4] # note that the last element that you see in the output is at index 3 "
   ]
  },
  {
   "cell_type": "markdown",
   "metadata": {},
   "source": [
    "If you don't specify a starting index, Python starts from the begining of the list "
   ]
  },
  {
   "cell_type": "code",
   "execution_count": 21,
   "metadata": {},
   "outputs": [
    {
     "data": {
      "text/plain": [
       "['JupytherNB', 75, None, True]"
      ]
     },
     "execution_count": 21,
     "metadata": {},
     "output_type": "execute_result"
    }
   ],
   "source": [
    "x[:4] # equivalent to x[0:4]"
   ]
  },
  {
   "cell_type": "markdown",
   "metadata": {},
   "source": [
    "Similarly, if we don't specify an ending index, the slicing includes the end of the list:"
   ]
  },
  {
   "cell_type": "code",
   "execution_count": 22,
   "metadata": {},
   "outputs": [
    {
     "data": {
      "text/plain": [
       "[52, 2, 75]"
      ]
     },
     "execution_count": 22,
     "metadata": {},
     "output_type": "execute_result"
    }
   ],
   "source": [
    "x[4:] "
   ]
  },
  {
   "cell_type": "markdown",
   "metadata": {},
   "source": [
    "You can also use a negative index if desired:"
   ]
  },
  {
   "cell_type": "code",
   "execution_count": 23,
   "metadata": {},
   "outputs": [
    {
     "name": "stdout",
     "output_type": "stream",
     "text": [
      "['JupytherNB', 75, None, True, 52, 2, 75]\n"
     ]
    },
    {
     "data": {
      "text/plain": [
       "[2, 75]"
      ]
     },
     "execution_count": 23,
     "metadata": {},
     "output_type": "execute_result"
    }
   ],
   "source": [
    "print(x)\n",
    "x[-2:]"
   ]
  },
  {
   "cell_type": "markdown",
   "metadata": {},
   "source": [
    "Another useful type of slicing is using [start:stop:stride] where the stop denotes the index before which we should stop our slice (so it is not included) and the stride is just the step size:"
   ]
  },
  {
   "cell_type": "code",
   "execution_count": 222,
   "metadata": {},
   "outputs": [
    {
     "data": {
      "text/plain": [
       "['JupytherNB', None]"
      ]
     },
     "execution_count": 222,
     "metadata": {},
     "output_type": "execute_result"
    }
   ],
   "source": [
    "x[0:4:2] # steps of 2"
   ]
  },
  {
   "cell_type": "code",
   "execution_count": 29,
   "metadata": {},
   "outputs": [
    {
     "data": {
      "text/plain": [
       "[52, True, None, 75, 'JupytherNB']"
      ]
     },
     "execution_count": 29,
     "metadata": {},
     "output_type": "execute_result"
    }
   ],
   "source": [
    "x[4::-1] # a negative step returns items in reverse (it works backward so here we start from the element at index 4 and we go backward to the begning)"
   ]
  },
  {
   "cell_type": "markdown",
   "metadata": {},
   "source": [
    "In the above example, it starts from 4 but because the stride is negative, it works backward to the begning but we steps of 2."
   ]
  },
  {
   "cell_type": "markdown",
   "metadata": {},
   "source": [
    "#### Modifying elements in a list"
   ]
  },
  {
   "cell_type": "markdown",
   "metadata": {},
   "source": [
    "As we saw [earlier](#listmod), one way to modify existing elements of a list is to use indexing and assign that particular element to a new value. However, there are other ways we may want to modify a list; for example, to append a value to the list, to insert an element at a specific index, .... . Let's look at some methods for these purposes:"
   ]
  },
  {
   "cell_type": "code",
   "execution_count": 30,
   "metadata": {},
   "outputs": [
    {
     "data": {
      "text/plain": [
       "['JupytherNB', 75, None, True, 52, 2, 75, -23]"
      ]
     },
     "execution_count": 30,
     "metadata": {},
     "output_type": "execute_result"
    }
   ],
   "source": [
    "x.append(-23) # the append method to append a value to the end of the list\n",
    "x"
   ]
  },
  {
   "cell_type": "code",
   "execution_count": 31,
   "metadata": {},
   "outputs": [
    {
     "data": {
      "text/plain": [
       "['JupytherNB', None, True, 52, 2, 75, -23]"
      ]
     },
     "execution_count": 31,
     "metadata": {},
     "output_type": "execute_result"
    }
   ],
   "source": [
    "x.remove(75) # the remove method to remove the first matching element\n",
    "x"
   ]
  },
  {
   "cell_type": "code",
   "execution_count": 32,
   "metadata": {},
   "outputs": [
    {
     "data": {
      "text/plain": [
       "[0, 2, 4, 9]"
      ]
     },
     "execution_count": 32,
     "metadata": {},
     "output_type": "execute_result"
    }
   ],
   "source": [
    "y.sort() # the sort method to sort the element of y\n",
    "y"
   ]
  },
  {
   "cell_type": "code",
   "execution_count": 33,
   "metadata": {},
   "outputs": [
    {
     "data": {
      "text/plain": [
       "['JupytherNB', None, 10, True, 52, 2, 75, -23]"
      ]
     },
     "execution_count": 33,
     "metadata": {},
     "output_type": "execute_result"
    }
   ],
   "source": [
    "x.insert(2, 10) # insert(pos, elmnt) method insert the specified elmnt at the specified position (pos) and shift the rest to the right\n",
    "x"
   ]
  },
  {
   "cell_type": "code",
   "execution_count": 106,
   "metadata": {},
   "outputs": [
    {
     "name": "stdout",
     "output_type": "stream",
     "text": [
      "True\n"
     ]
    },
    {
     "data": {
      "text/plain": [
       "['JupytherNB', None, 10, 52, 2, 75, -23]"
      ]
     },
     "execution_count": 106,
     "metadata": {},
     "output_type": "execute_result"
    }
   ],
   "source": [
    "print(x.pop(3)) # pop(pos) method removes (and returns) the element at the specified position (pos)\n",
    "x"
   ]
  },
  {
   "cell_type": "code",
   "execution_count": 33,
   "metadata": {},
   "outputs": [
    {
     "data": {
      "text/plain": [
       "['JupytherNB', 10, 52, 2, 75, -23]"
      ]
     },
     "execution_count": 33,
     "metadata": {},
     "output_type": "execute_result"
    }
   ],
   "source": [
    "del x[1] # del statement can be also used to delete an element from a list by its index\n",
    "x"
   ]
  },
  {
   "cell_type": "code",
   "execution_count": 34,
   "metadata": {},
   "outputs": [
    {
     "data": {
      "text/plain": [
       "['JupytherNB', 10, 52, 2, 75]"
      ]
     },
     "execution_count": 34,
     "metadata": {},
     "output_type": "execute_result"
    }
   ],
   "source": [
    "x.pop() # by default the position is -1, which means that it removes the last element\n",
    "x "
   ]
  },
  {
   "cell_type": "markdown",
   "metadata": {},
   "source": [
    "#### Copying a List"
   ]
  },
  {
   "cell_type": "markdown",
   "metadata": {},
   "source": [
    "It is often desired to make a copy of a list and work with it without affecting the original list. In these cases if you simply use the assignment operator, you will end up changing the original list. Let's assume we have the following list:"
   ]
  },
  {
   "cell_type": "code",
   "execution_count": 121,
   "metadata": {},
   "outputs": [],
   "source": [
    "list1 = ['A+', 'A', 'B', 'C+']"
   ]
  },
  {
   "cell_type": "code",
   "execution_count": 122,
   "metadata": {},
   "outputs": [
    {
     "data": {
      "text/plain": [
       "['A+', 'A', 'B', 'C+']"
      ]
     },
     "execution_count": 122,
     "metadata": {},
     "output_type": "execute_result"
    }
   ],
   "source": [
    "list2 = list1\n",
    "list2"
   ]
  },
  {
   "cell_type": "code",
   "execution_count": 123,
   "metadata": {},
   "outputs": [
    {
     "name": "stdout",
     "output_type": "stream",
     "text": [
      "['A+', 'A', 'B', 'C+', 'D']\n",
      "['A+', 'A', 'B', 'C+', 'D']\n"
     ]
    }
   ],
   "source": [
    "list2.append('D')\n",
    "print(list2)\n",
    "print(list1)"
   ]
  },
  {
   "cell_type": "markdown",
   "metadata": {},
   "source": [
    "As you can see in the example above, both lists are the same, which is not what we desired (remember that we did not want to change ``list1``). Perhaps you ask why did this happens. Well, remember when we said Python variables are pointers. When we write ``list2 = list1`` in fact what happens internally is that variable ``list2`` points to the same container as ``list1``. So if we modify the container elements using ``list2``, that change will appear if we access the elements of the container using ``list1``. \n",
    "\n",
    "There are three simple ways to properly copy the elements of a list: 1) *slicing*; 2) ``copy()`` method; and 3) the constructor ``list()``. They all creates shallow copies: \"A shallow copy constructs a new compound object and then inserts references into it to the objects found in the original\" (you can check [p.225-227, 1] for implication of this)."
   ]
  },
  {
   "cell_type": "code",
   "execution_count": 128,
   "metadata": {},
   "outputs": [
    {
     "name": "stdout",
     "output_type": "stream",
     "text": [
      "['A+', 'A', 'B', 'C+', 'D', 'E']\n",
      "['A+', 'A', 'B', 'C+', 'D']\n"
     ]
    }
   ],
   "source": [
    "list3 = list1[:] # here we use slicing and by [:] we make a shallow copy of the entire list1\n",
    "list3.append('E')\n",
    "print(list3)\n",
    "print(list1)"
   ]
  },
  {
   "cell_type": "code",
   "execution_count": 129,
   "metadata": {},
   "outputs": [
    {
     "name": "stdout",
     "output_type": "stream",
     "text": [
      "['A+', 'A', 'B', 'C+', 'D', 'E']\n",
      "['A+', 'A', 'B', 'C+', 'D']\n"
     ]
    }
   ],
   "source": [
    "list4 = list1.copy() # here we use copy() method\n",
    "list4.append('E')\n",
    "print(list4)\n",
    "print(list1)"
   ]
  },
  {
   "cell_type": "code",
   "execution_count": 130,
   "metadata": {},
   "outputs": [
    {
     "name": "stdout",
     "output_type": "stream",
     "text": [
      "['A+', 'A', 'B', 'C+', 'D', 'E']\n",
      "['A+', 'A', 'B', 'C+', 'D']\n"
     ]
    }
   ],
   "source": [
    "list5 = list(list1) #here we use constructor list()\n",
    "list5.append('E')\n",
    "print(list5)\n",
    "print(list1)"
   ]
  },
  {
   "cell_type": "markdown",
   "metadata": {},
   "source": [
    "Note that the use of slicing in a list makes a copy of the list. Therefore, changing some elements in the copied list does not change the original list (this is in contrast with slicing NumPy arrays as we will see later):"
   ]
  },
  {
   "cell_type": "code",
   "execution_count": 131,
   "metadata": {},
   "outputs": [
    {
     "data": {
      "text/plain": [
       "['B', 'C+', 'D']"
      ]
     },
     "execution_count": 131,
     "metadata": {},
     "output_type": "execute_result"
    }
   ],
   "source": [
    "list5 = list1[2:]\n",
    "list5"
   ]
  },
  {
   "cell_type": "code",
   "execution_count": 132,
   "metadata": {},
   "outputs": [
    {
     "data": {
      "text/plain": [
       "['A+', 'A', 'B', 'C+', 'D']"
      ]
     },
     "execution_count": 132,
     "metadata": {},
     "output_type": "execute_result"
    }
   ],
   "source": [
    "list5.append('F')\n",
    "list1"
   ]
  },
  {
   "cell_type": "markdown",
   "metadata": {},
   "source": [
    "<img align=\"left\" src=\"images/tip.png\" alt=\"drawing\" width=\"140\"/><br>\n",
    "\n",
    "<br><br> ``help()`` is a useful function in Python that shows the list of asttributes/methods defined for an object. For example, (you can see all methods [and many more] discussed above here):"
   ]
  },
  {
   "cell_type": "code",
   "execution_count": 225,
   "metadata": {},
   "outputs": [
    {
     "name": "stdout",
     "output_type": "stream",
     "text": [
      "Help on list object:\n",
      "\n",
      "class list(object)\n",
      " |  list(iterable=(), /)\n",
      " |  \n",
      " |  Built-in mutable sequence.\n",
      " |  \n",
      " |  If no argument is given, the constructor creates a new empty list.\n",
      " |  The argument must be an iterable if specified.\n",
      " |  \n",
      " |  Methods defined here:\n",
      " |  \n",
      " |  __add__(self, value, /)\n",
      " |      Return self+value.\n",
      " |  \n",
      " |  __contains__(self, key, /)\n",
      " |      Return key in self.\n",
      " |  \n",
      " |  __delitem__(self, key, /)\n",
      " |      Delete self[key].\n",
      " |  \n",
      " |  __eq__(self, value, /)\n",
      " |      Return self==value.\n",
      " |  \n",
      " |  __ge__(self, value, /)\n",
      " |      Return self>=value.\n",
      " |  \n",
      " |  __getattribute__(self, name, /)\n",
      " |      Return getattr(self, name).\n",
      " |  \n",
      " |  __getitem__(...)\n",
      " |      x.__getitem__(y) <==> x[y]\n",
      " |  \n",
      " |  __gt__(self, value, /)\n",
      " |      Return self>value.\n",
      " |  \n",
      " |  __iadd__(self, value, /)\n",
      " |      Implement self+=value.\n",
      " |  \n",
      " |  __imul__(self, value, /)\n",
      " |      Implement self*=value.\n",
      " |  \n",
      " |  __init__(self, /, *args, **kwargs)\n",
      " |      Initialize self.  See help(type(self)) for accurate signature.\n",
      " |  \n",
      " |  __iter__(self, /)\n",
      " |      Implement iter(self).\n",
      " |  \n",
      " |  __le__(self, value, /)\n",
      " |      Return self<=value.\n",
      " |  \n",
      " |  __len__(self, /)\n",
      " |      Return len(self).\n",
      " |  \n",
      " |  __lt__(self, value, /)\n",
      " |      Return self<value.\n",
      " |  \n",
      " |  __mul__(self, value, /)\n",
      " |      Return self*value.\n",
      " |  \n",
      " |  __ne__(self, value, /)\n",
      " |      Return self!=value.\n",
      " |  \n",
      " |  __repr__(self, /)\n",
      " |      Return repr(self).\n",
      " |  \n",
      " |  __reversed__(self, /)\n",
      " |      Return a reverse iterator over the list.\n",
      " |  \n",
      " |  __rmul__(self, value, /)\n",
      " |      Return value*self.\n",
      " |  \n",
      " |  __setitem__(self, key, value, /)\n",
      " |      Set self[key] to value.\n",
      " |  \n",
      " |  __sizeof__(self, /)\n",
      " |      Return the size of the list in memory, in bytes.\n",
      " |  \n",
      " |  append(self, object, /)\n",
      " |      Append object to the end of the list.\n",
      " |  \n",
      " |  clear(self, /)\n",
      " |      Remove all items from list.\n",
      " |  \n",
      " |  copy(self, /)\n",
      " |      Return a shallow copy of the list.\n",
      " |  \n",
      " |  count(self, value, /)\n",
      " |      Return number of occurrences of value.\n",
      " |  \n",
      " |  extend(self, iterable, /)\n",
      " |      Extend list by appending elements from the iterable.\n",
      " |  \n",
      " |  index(self, value, start=0, stop=9223372036854775807, /)\n",
      " |      Return first index of value.\n",
      " |      \n",
      " |      Raises ValueError if the value is not present.\n",
      " |  \n",
      " |  insert(self, index, object, /)\n",
      " |      Insert object before index.\n",
      " |  \n",
      " |  pop(self, index=-1, /)\n",
      " |      Remove and return item at index (default last).\n",
      " |      \n",
      " |      Raises IndexError if list is empty or index is out of range.\n",
      " |  \n",
      " |  remove(self, value, /)\n",
      " |      Remove first occurrence of value.\n",
      " |      \n",
      " |      Raises ValueError if the value is not present.\n",
      " |  \n",
      " |  reverse(self, /)\n",
      " |      Reverse *IN PLACE*.\n",
      " |  \n",
      " |  sort(self, /, *, key=None, reverse=False)\n",
      " |      Sort the list in ascending order and return None.\n",
      " |      \n",
      " |      The sort is in-place (i.e. the list itself is modified) and stable (i.e. the\n",
      " |      order of two equal elements is maintained).\n",
      " |      \n",
      " |      If a key function is given, apply it once to each list item and sort them,\n",
      " |      ascending or descending, according to their function values.\n",
      " |      \n",
      " |      The reverse flag can be set to sort in descending order.\n",
      " |  \n",
      " |  ----------------------------------------------------------------------\n",
      " |  Static methods defined here:\n",
      " |  \n",
      " |  __new__(*args, **kwargs) from builtins.type\n",
      " |      Create and return a new object.  See help(type) for accurate signature.\n",
      " |  \n",
      " |  ----------------------------------------------------------------------\n",
      " |  Data and other attributes defined here:\n",
      " |  \n",
      " |  __hash__ = None\n",
      "\n"
     ]
    }
   ],
   "source": [
    "help(list1)"
   ]
  },
  {
   "cell_type": "markdown",
   "metadata": {},
   "source": [
    "### 1.5.2 Tuples\n",
    "\n",
    "Tuple is another data-structure in Python that similar to list can hold other arbitrary data types. However, the main difference between tuples and lists is that a tuple is *immutable*; that is, once it is created, its size and contents can not be changed. \n",
    "\n",
    "A tuple looks like a list except that to create them, you use parentheses ( ) instead of square brackets [ ]:"
   ]
  },
  {
   "cell_type": "code",
   "execution_count": 34,
   "metadata": {},
   "outputs": [
    {
     "data": {
      "text/plain": [
       "('Machine', 'Learning', 'with', 'Python', '1.0.0')"
      ]
     },
     "execution_count": 34,
     "metadata": {},
     "output_type": "execute_result"
    }
   ],
   "source": [
    "tuple1 = ('Machine', 'Learning', 'with', 'Python', '1.0.0')\n",
    "tuple1"
   ]
  },
  {
   "cell_type": "markdown",
   "metadata": {},
   "source": [
    "Once a tuple is created, we can use indexing and slicing just as we did for a list (using square brackets):"
   ]
  },
  {
   "cell_type": "code",
   "execution_count": 35,
   "metadata": {},
   "outputs": [
    {
     "data": {
      "text/plain": [
       "'Machine'"
      ]
     },
     "execution_count": 35,
     "metadata": {},
     "output_type": "execute_result"
    }
   ],
   "source": [
    "tuple1[0]"
   ]
  },
  {
   "cell_type": "code",
   "execution_count": 36,
   "metadata": {},
   "outputs": [
    {
     "data": {
      "text/plain": [
       "('Machine', 'with', '1.0.0')"
      ]
     },
     "execution_count": 36,
     "metadata": {},
     "output_type": "execute_result"
    }
   ],
   "source": [
    "tuple1[::2]"
   ]
  },
  {
   "cell_type": "code",
   "execution_count": 40,
   "metadata": {},
   "outputs": [
    {
     "data": {
      "text/plain": [
       "5"
      ]
     },
     "execution_count": 40,
     "metadata": {},
     "output_type": "execute_result"
    }
   ],
   "source": [
    "len(tuple1) # here we use len() to return the length of tuple"
   ]
  },
  {
   "cell_type": "markdown",
   "metadata": {},
   "source": [
    "Let's see what happens if we try to change the content of our tuple:"
   ]
  },
  {
   "cell_type": "code",
   "execution_count": 38,
   "metadata": {},
   "outputs": [
    {
     "ename": "TypeError",
     "evalue": "'tuple' object does not support item assignment",
     "output_type": "error",
     "traceback": [
      "\u001b[0;31m---------------------------------------------------------------------------\u001b[0m",
      "\u001b[0;31mTypeError\u001b[0m                                 Traceback (most recent call last)",
      "\u001b[0;32m/var/folders/vy/894wbsn11db_lqf17ys9fvdm0000gn/T/ipykernel_93585/877039090.py\u001b[0m in \u001b[0;36m<module>\u001b[0;34m\u001b[0m\n\u001b[0;32m----> 1\u001b[0;31m \u001b[0mtuple1\u001b[0m\u001b[0;34m[\u001b[0m\u001b[0;36m0\u001b[0m\u001b[0;34m]\u001b[0m \u001b[0;34m=\u001b[0m \u001b[0;34m'Jupyter'\u001b[0m \u001b[0;31m# as you see, Python does not allow us to change the value\u001b[0m\u001b[0;34m\u001b[0m\u001b[0;34m\u001b[0m\u001b[0m\n\u001b[0m",
      "\u001b[0;31mTypeError\u001b[0m: 'tuple' object does not support item assignment"
     ]
    }
   ],
   "source": [
    "tuple1[0] = 'Jupyter' # as you see, Python does not allow us to change the value"
   ]
  },
  {
   "cell_type": "markdown",
   "metadata": {},
   "source": [
    "Because we can not change the contents of tuples, there is no ``append`` or ``remove`` method for tuples.  "
   ]
  },
  {
   "cell_type": "markdown",
   "metadata": {},
   "source": [
    "Although we can not change the contents of a tuple, we could redefine our entire tuple (assign a new value to the variable that holds the tuple):"
   ]
  },
  {
   "cell_type": "code",
   "execution_count": null,
   "metadata": {},
   "outputs": [],
   "source": [
    "tuple1 = ('Jupyter', 'NoteBook') # here we redefine the tuple1\n",
    "tuple1"
   ]
  },
  {
   "cell_type": "markdown",
   "metadata": {},
   "source": [
    "Or if desired, we can concatenate them to create new tuples:"
   ]
  },
  {
   "cell_type": "code",
   "execution_count": null,
   "metadata": {},
   "outputs": [],
   "source": [
    "tuple2 = tuple1 + ('Good', 'Morning')\n",
    "tuple2"
   ]
  },
  {
   "cell_type": "markdown",
   "metadata": {},
   "source": [
    "A common use of tuples is in functions that return multiple values. For example, ``modf()`` function from math module (more on functions and modules later), returns a two-item tuple including fractiocal part and integer part of its input:"
   ]
  },
  {
   "cell_type": "code",
   "execution_count": 41,
   "metadata": {},
   "outputs": [
    {
     "data": {
      "text/plain": [
       "(0.5, 56.0)"
      ]
     },
     "execution_count": 41,
     "metadata": {},
     "output_type": "execute_result"
    }
   ],
   "source": [
    "from math import modf   # more on this later. For now just read this as \"from math module, import modf function\" so that modf function is available in your program\n",
    "\n",
    "a = 56.5\n",
    "modf(a) # observe that what the function is returning is a two-element tuple"
   ]
  },
  {
   "cell_type": "markdown",
   "metadata": {},
   "source": [
    "We can assign these two return values to two variables as follows (this is called *sequence unpacking* <a id='unpacking'></a>and is not limited to tuples):"
   ]
  },
  {
   "cell_type": "code",
   "execution_count": null,
   "metadata": {},
   "outputs": [],
   "source": [
    "x, y = modf(a)\n",
    "print(\"x = \" + str(x) + \"\\n\" + \"y = \" + str(y))"
   ]
  },
  {
   "cell_type": "markdown",
   "metadata": {},
   "source": [
    "Now that we talked about sequence unpacking, let's see what is *sequence packing*. In Python, a sequence of comma separated objects without paranthesis is packed into a tuple. This means that another way to create the above tuple is:"
   ]
  },
  {
   "cell_type": "code",
   "execution_count": 42,
   "metadata": {},
   "outputs": [
    {
     "data": {
      "text/plain": [
       "('Machine', 'Learning', 'with', 'Python', '1.0.0')"
      ]
     },
     "execution_count": 42,
     "metadata": {},
     "output_type": "execute_result"
    }
   ],
   "source": [
    "tuple1 = 'Machine', 'Learning', 'with', 'Python', '1.0.0' # sequence packing\n",
    "tuple1"
   ]
  },
  {
   "cell_type": "code",
   "execution_count": 189,
   "metadata": {},
   "outputs": [
    {
     "name": "stdout",
     "output_type": "stream",
     "text": [
      "Machine Learning with Python 1.0.0\n"
     ]
    }
   ],
   "source": [
    "x, y, z, v, w = tuple1 # here again we use sequence unpacking\n",
    "print(x, y, z, v, w)"
   ]
  },
  {
   "cell_type": "markdown",
   "metadata": {},
   "source": [
    "Note that in the above example, we first packed ``'Machine'``, ``'Learning'``, ``'with'``, ``'Python'``, ``'1.0.0'`` into ``tuple1`` and then unpacked into ``x``, ``y``, ``z``, ``v``, ``w``. Python allows to do this in one step as follows (also known as multiple assignment, which is really a combination of sequence packing and unpacking):"
   ]
  },
  {
   "cell_type": "code",
   "execution_count": null,
   "metadata": {},
   "outputs": [],
   "source": [
    "x, y, z, v, w = 'Machine', 'Learning', 'with', 'Python', '1.0.0'\n",
    "print(x, y, z, v, w)"
   ]
  },
  {
   "cell_type": "markdown",
   "metadata": {},
   "source": [
    "You can do unpacking with lists if you wish:"
   ]
  },
  {
   "cell_type": "code",
   "execution_count": 66,
   "metadata": {},
   "outputs": [
    {
     "name": "stdout",
     "output_type": "stream",
     "text": [
      "Machine Learning with Python 1.0.0\n"
     ]
    }
   ],
   "source": [
    "list6 = ['Machine', 'Learning', 'with', 'Python', '1.0.0']\n",
    "x, y, z, v, w = list6\n",
    "print(x, y, z, v, w)"
   ]
  },
  {
   "cell_type": "markdown",
   "metadata": {},
   "source": [
    "One last note about sequence packing for tuples, if you want to create a one-element tuple, the comma is required (why?):"
   ]
  },
  {
   "cell_type": "code",
   "execution_count": 67,
   "metadata": {},
   "outputs": [
    {
     "data": {
      "text/plain": [
       "tuple"
      ]
     },
     "execution_count": 67,
     "metadata": {},
     "output_type": "execute_result"
    }
   ],
   "source": [
    "tuple3 = 'Machine', # remove the comma and see what would be the type here\n",
    "type(tuple3)"
   ]
  },
  {
   "cell_type": "markdown",
   "metadata": {},
   "source": [
    "### 1.5.3 Dictionaries <a id='Dictionaries'></a>"
   ]
  },
  {
   "cell_type": "markdown",
   "metadata": {},
   "source": [
    "A dictionary is a useful data structure that contains a set of *values* where each value is labeled by a unique *key* (if you use duplicate keys, the second value wins). You can think of a dictionary data type as a real dictionary where the words are keys and the definition of words are values but there is no order among keys or values. As for the keys, we can use any immutable Python built-in type such as string, integer, float, boolean or even tuple as long the tuple does not include a mutable object. In technical terms, the keys should be *hashable* but the details of how a dictionary is implemented under the hood is out of the scope here. \n",
    "\n",
    "Dictionaries are created using a collection of key:value pairs wrapped within curly braces { } and are *non-ordered*:"
   ]
  },
  {
   "cell_type": "code",
   "execution_count": 56,
   "metadata": {},
   "outputs": [
    {
     "data": {
      "text/plain": [
       "{1: 'value for key 20',\n",
       " 'key for value 2': 2,\n",
       " (1, 0): True,\n",
       " False: [100, 50],\n",
       " 2.5: 'Hello'}"
      ]
     },
     "execution_count": 56,
     "metadata": {},
     "output_type": "execute_result"
    }
   ],
   "source": [
    "dict1 = {1:'value for key 20', 'key for value 2':2, (1,0):True, False:[100,50], 2.5:'Hello'} \n",
    "dict1"
   ]
  },
  {
   "cell_type": "markdown",
   "metadata": {},
   "source": [
    "Note that the above example is just for demonstration to show the possibility of using immutable data types for keys; however, keys in dictionary are generally short and more uniform. The items in a dictionary are accessed using the keys:"
   ]
  },
  {
   "cell_type": "code",
   "execution_count": 57,
   "metadata": {},
   "outputs": [
    {
     "data": {
      "text/plain": [
       "2"
      ]
     },
     "execution_count": 57,
     "metadata": {},
     "output_type": "execute_result"
    }
   ],
   "source": [
    "dict1['key for value 2']"
   ]
  },
  {
   "cell_type": "code",
   "execution_count": 58,
   "metadata": {},
   "outputs": [
    {
     "data": {
      "text/plain": [
       "{1: 'value for key 20',\n",
       " 'key for value 2': 30,\n",
       " (1, 0): True,\n",
       " False: [100, 50],\n",
       " 2.5: 'Hello'}"
      ]
     },
     "execution_count": 58,
     "metadata": {},
     "output_type": "execute_result"
    }
   ],
   "source": [
    "dict1['key for value 2'] = 30 # here we modify an element\n",
    "dict1"
   ]
  },
  {
   "cell_type": "markdown",
   "metadata": {},
   "source": [
    "We can add new items to the dictionary using new keys:"
   ]
  },
  {
   "cell_type": "code",
   "execution_count": 59,
   "metadata": {},
   "outputs": [
    {
     "data": {
      "text/plain": [
       "{1: 'value for key 20',\n",
       " 'key for value 2': 30,\n",
       " (1, 0): True,\n",
       " False: [100, 50],\n",
       " 2.5: 'Hello',\n",
       " 10: 'Bye'}"
      ]
     },
     "execution_count": 59,
     "metadata": {},
     "output_type": "execute_result"
    }
   ],
   "source": [
    "dict1[10] = 'Bye'\n",
    "dict1"
   ]
  },
  {
   "cell_type": "markdown",
   "metadata": {},
   "source": [
    "We can also remove a key:pair from a dictionary using the del statement:"
   ]
  },
  {
   "cell_type": "code",
   "execution_count": 60,
   "metadata": {},
   "outputs": [
    {
     "data": {
      "text/plain": [
       "{1: 'value for key 20',\n",
       " (1, 0): True,\n",
       " False: [100, 50],\n",
       " 2.5: 'Hello',\n",
       " 10: 'Bye'}"
      ]
     },
     "execution_count": 60,
     "metadata": {},
     "output_type": "execute_result"
    }
   ],
   "source": [
    "del dict1['key for value 2']\n",
    "dict1"
   ]
  },
  {
   "cell_type": "code",
   "execution_count": 138,
   "metadata": {},
   "outputs": [
    {
     "ename": "TypeError",
     "evalue": "unhashable type: 'list'",
     "output_type": "error",
     "traceback": [
      "\u001b[0;31m---------------------------------------------------------------------------\u001b[0m",
      "\u001b[0;31mTypeError\u001b[0m                                 Traceback (most recent call last)",
      "\u001b[0;32m<ipython-input-138-871fd133c521>\u001b[0m in \u001b[0;36m<module>\u001b[0;34m\u001b[0m\n\u001b[0;32m----> 1\u001b[0;31m \u001b[0mdict1\u001b[0m\u001b[0;34m[\u001b[0m\u001b[0;34m[\u001b[0m\u001b[0;34m'1'\u001b[0m\u001b[0;34m,\u001b[0m\u001b[0;34m'(1,0)'\u001b[0m\u001b[0;34m]\u001b[0m\u001b[0;34m]\u001b[0m \u001b[0;34m=\u001b[0m \u001b[0;36m100\u001b[0m \u001b[0;31m# list is not allowed as the key so error!\u001b[0m\u001b[0;34m\u001b[0m\u001b[0;34m\u001b[0m\u001b[0m\n\u001b[0m",
      "\u001b[0;31mTypeError\u001b[0m: unhashable type: 'list'"
     ]
    }
   ],
   "source": [
    "dict1[['1','(1,0)']] = 100 # list is not allowed as the key so error!"
   ]
  },
  {
   "cell_type": "markdown",
   "metadata": {},
   "source": [
    "The non-ordered nature of dictionaries allow fast access to its elements regardless of its size. However, this comes at the expense of significant memory overhead (because internally uses an additional sprase hash tables). Therefore, think of dictionaries as a trade off between memory and time: as long as it fits in the memory, its provides fast access to its elements. \n",
    "\n",
    "In order to check the membership among keys, you can use the ``keys()`` method to return a ``dict_keys`` object (it provides a view of all keys) and check the membership:"
   ]
  },
  {
   "cell_type": "code",
   "execution_count": 139,
   "metadata": {},
   "outputs": [
    {
     "data": {
      "text/plain": [
       "True"
      ]
     },
     "execution_count": 139,
     "metadata": {},
     "output_type": "execute_result"
    }
   ],
   "source": [
    "(1,0) in dict1.keys()"
   ]
  },
  {
   "cell_type": "markdown",
   "metadata": {},
   "source": [
    "This could be also done with the name of the dictionary (the default behaviour is to check the keys, not the values):"
   ]
  },
  {
   "cell_type": "code",
   "execution_count": 140,
   "metadata": {},
   "outputs": [
    {
     "data": {
      "text/plain": [
       "True"
      ]
     },
     "execution_count": 140,
     "metadata": {},
     "output_type": "execute_result"
    }
   ],
   "source": [
    "(1,0) in dict1 # equivalent to: in dict1.keys()"
   ]
  },
  {
   "cell_type": "markdown",
   "metadata": {},
   "source": [
    "In order to check the membership among values, you can use the ``values()`` method to return a ``dict_values`` object (it provides a view of all values) and check the membership:"
   ]
  },
  {
   "cell_type": "code",
   "execution_count": 141,
   "metadata": {},
   "outputs": [
    {
     "data": {
      "text/plain": [
       "True"
      ]
     },
     "execution_count": 141,
     "metadata": {},
     "output_type": "execute_result"
    }
   ],
   "source": [
    "\"Hello\" in dict1.values()"
   ]
  },
  {
   "cell_type": "markdown",
   "metadata": {},
   "source": [
    "Another common way to create a dictionary is to use the ``dict()`` constructor. <a id='dict_constr'></a>It works with any iterable object (as long each element is iterable itself with two objects) or even comma separated ``keywords=object`` pairs:"
   ]
  },
  {
   "cell_type": "code",
   "execution_count": 49,
   "metadata": {},
   "outputs": [
    {
     "data": {
      "text/plain": [
       "{'Police': 102, 'Fire': 101, 'Gas': 104}"
      ]
     },
     "execution_count": 49,
     "metadata": {},
     "output_type": "execute_result"
    }
   ],
   "source": [
    "dict2 = dict([('Police', 102), ('Fire', 101), ('Gas', 104)]) \n",
    "dict2"
   ]
  },
  {
   "cell_type": "code",
   "execution_count": 143,
   "metadata": {},
   "outputs": [
    {
     "data": {
      "text/plain": [
       "{'Country': 'Kazakhstan',\n",
       " 'phone_numbers': {'Police': 102, 'Fire': 101, 'Gas': 104},\n",
       " 'population_million': 18.7}"
      ]
     },
     "execution_count": 143,
     "metadata": {},
     "output_type": "execute_result"
    }
   ],
   "source": [
    "dict3 = dict(Country='Kazakhstan', phone_numbers=dict2, population_million=18.7) # here we use keywords arguments = object\n",
    "dict3"
   ]
  },
  {
   "cell_type": "markdown",
   "metadata": {},
   "source": [
    "### 1.5.4 Sets"
   ]
  },
  {
   "cell_type": "markdown",
   "metadata": {},
   "source": [
    "Sets are collection of non-ordered unique and immutable objects. They can be defined similarly to lists and tuples but using curly braces. Similar to mathematical set operations, they support union, intersection, difference, and symmetric difference. "
   ]
  },
  {
   "cell_type": "code",
   "execution_count": 207,
   "metadata": {},
   "outputs": [
    {
     "data": {
      "text/plain": [
       "{'a', 'b', 'c', 'd', 'e'}"
      ]
     },
     "execution_count": 207,
     "metadata": {},
     "output_type": "execute_result"
    }
   ],
   "source": [
    "set1 = {'a', 'b', 'c', 'd', 'e'}\n",
    "set1"
   ]
  },
  {
   "cell_type": "code",
   "execution_count": 145,
   "metadata": {},
   "outputs": [
    {
     "data": {
      "text/plain": [
       "{'b', 'c', 'f', 'g'}"
      ]
     },
     "execution_count": 145,
     "metadata": {},
     "output_type": "execute_result"
    }
   ],
   "source": [
    "set2 = {'b', 'b', 'c', 'f', 'g'}\n",
    "set2 # observe that the duplicate entery is removed"
   ]
  },
  {
   "cell_type": "code",
   "execution_count": 146,
   "metadata": {},
   "outputs": [
    {
     "data": {
      "text/plain": [
       "{'a', 'b', 'c', 'd', 'e', 'f', 'g'}"
      ]
     },
     "execution_count": 146,
     "metadata": {},
     "output_type": "execute_result"
    }
   ],
   "source": [
    "set1 | set2 # union using operator. Equivalently, this could be done by set1.union(set2)"
   ]
  },
  {
   "cell_type": "code",
   "execution_count": 147,
   "metadata": {},
   "outputs": [
    {
     "data": {
      "text/plain": [
       "{'b', 'c'}"
      ]
     },
     "execution_count": 147,
     "metadata": {},
     "output_type": "execute_result"
    }
   ],
   "source": [
    "set1 & set2 # intersection using operator. Equivalently, this could be done by set1.intersection(set2)"
   ]
  },
  {
   "cell_type": "code",
   "execution_count": 148,
   "metadata": {},
   "outputs": [
    {
     "data": {
      "text/plain": [
       "{'a', 'd', 'e'}"
      ]
     },
     "execution_count": 148,
     "metadata": {},
     "output_type": "execute_result"
    }
   ],
   "source": [
    "set1 - set2 # difference: elements of set1 not in set2. Equivalently, this could be done by set1.difference(set2)"
   ]
  },
  {
   "cell_type": "code",
   "execution_count": 149,
   "metadata": {},
   "outputs": [
    {
     "data": {
      "text/plain": [
       "{'a', 'd', 'e', 'f', 'g'}"
      ]
     },
     "execution_count": 149,
     "metadata": {},
     "output_type": "execute_result"
    }
   ],
   "source": [
    "set1 ^ set2 # symmetric difference: elements only in one set, not in both. Equivalently, this could be done by set1.symmetric_difference(set2)"
   ]
  },
  {
   "cell_type": "code",
   "execution_count": null,
   "metadata": {},
   "outputs": [],
   "source": [
    "'b' in set1 # check membership"
   ]
  },
  {
   "cell_type": "code",
   "execution_count": 230,
   "metadata": {},
   "outputs": [
    {
     "name": "stdout",
     "output_type": "stream",
     "text": [
      "Help on set object:\n",
      "\n",
      "class set(object)\n",
      " |  set() -> new empty set object\n",
      " |  set(iterable) -> new set object\n",
      " |  \n",
      " |  Build an unordered collection of unique elements.\n",
      " |  \n",
      " |  Methods defined here:\n",
      " |  \n",
      " |  __and__(self, value, /)\n",
      " |      Return self&value.\n",
      " |  \n",
      " |  __contains__(...)\n",
      " |      x.__contains__(y) <==> y in x.\n",
      " |  \n",
      " |  __eq__(self, value, /)\n",
      " |      Return self==value.\n",
      " |  \n",
      " |  __ge__(self, value, /)\n",
      " |      Return self>=value.\n",
      " |  \n",
      " |  __getattribute__(self, name, /)\n",
      " |      Return getattr(self, name).\n",
      " |  \n",
      " |  __gt__(self, value, /)\n",
      " |      Return self>value.\n",
      " |  \n",
      " |  __iand__(self, value, /)\n",
      " |      Return self&=value.\n",
      " |  \n",
      " |  __init__(self, /, *args, **kwargs)\n",
      " |      Initialize self.  See help(type(self)) for accurate signature.\n",
      " |  \n",
      " |  __ior__(self, value, /)\n",
      " |      Return self|=value.\n",
      " |  \n",
      " |  __isub__(self, value, /)\n",
      " |      Return self-=value.\n",
      " |  \n",
      " |  __iter__(self, /)\n",
      " |      Implement iter(self).\n",
      " |  \n",
      " |  __ixor__(self, value, /)\n",
      " |      Return self^=value.\n",
      " |  \n",
      " |  __le__(self, value, /)\n",
      " |      Return self<=value.\n",
      " |  \n",
      " |  __len__(self, /)\n",
      " |      Return len(self).\n",
      " |  \n",
      " |  __lt__(self, value, /)\n",
      " |      Return self<value.\n",
      " |  \n",
      " |  __ne__(self, value, /)\n",
      " |      Return self!=value.\n",
      " |  \n",
      " |  __or__(self, value, /)\n",
      " |      Return self|value.\n",
      " |  \n",
      " |  __rand__(self, value, /)\n",
      " |      Return value&self.\n",
      " |  \n",
      " |  __reduce__(...)\n",
      " |      Return state information for pickling.\n",
      " |  \n",
      " |  __repr__(self, /)\n",
      " |      Return repr(self).\n",
      " |  \n",
      " |  __ror__(self, value, /)\n",
      " |      Return value|self.\n",
      " |  \n",
      " |  __rsub__(self, value, /)\n",
      " |      Return value-self.\n",
      " |  \n",
      " |  __rxor__(self, value, /)\n",
      " |      Return value^self.\n",
      " |  \n",
      " |  __sizeof__(...)\n",
      " |      S.__sizeof__() -> size of S in memory, in bytes\n",
      " |  \n",
      " |  __sub__(self, value, /)\n",
      " |      Return self-value.\n",
      " |  \n",
      " |  __xor__(self, value, /)\n",
      " |      Return self^value.\n",
      " |  \n",
      " |  add(...)\n",
      " |      Add an element to a set.\n",
      " |      \n",
      " |      This has no effect if the element is already present.\n",
      " |  \n",
      " |  clear(...)\n",
      " |      Remove all elements from this set.\n",
      " |  \n",
      " |  copy(...)\n",
      " |      Return a shallow copy of a set.\n",
      " |  \n",
      " |  difference(...)\n",
      " |      Return the difference of two or more sets as a new set.\n",
      " |      \n",
      " |      (i.e. all elements that are in this set but not the others.)\n",
      " |  \n",
      " |  difference_update(...)\n",
      " |      Remove all elements of another set from this set.\n",
      " |  \n",
      " |  discard(...)\n",
      " |      Remove an element from a set if it is a member.\n",
      " |      \n",
      " |      If the element is not a member, do nothing.\n",
      " |  \n",
      " |  intersection(...)\n",
      " |      Return the intersection of two sets as a new set.\n",
      " |      \n",
      " |      (i.e. all elements that are in both sets.)\n",
      " |  \n",
      " |  intersection_update(...)\n",
      " |      Update a set with the intersection of itself and another.\n",
      " |  \n",
      " |  isdisjoint(...)\n",
      " |      Return True if two sets have a null intersection.\n",
      " |  \n",
      " |  issubset(...)\n",
      " |      Report whether another set contains this set.\n",
      " |  \n",
      " |  issuperset(...)\n",
      " |      Report whether this set contains another set.\n",
      " |  \n",
      " |  pop(...)\n",
      " |      Remove and return an arbitrary set element.\n",
      " |      Raises KeyError if the set is empty.\n",
      " |  \n",
      " |  remove(...)\n",
      " |      Remove an element from a set; it must be a member.\n",
      " |      \n",
      " |      If the element is not a member, raise a KeyError.\n",
      " |  \n",
      " |  symmetric_difference(...)\n",
      " |      Return the symmetric difference of two sets as a new set.\n",
      " |      \n",
      " |      (i.e. all elements that are in exactly one of the sets.)\n",
      " |  \n",
      " |  symmetric_difference_update(...)\n",
      " |      Update a set with the symmetric difference of itself and another.\n",
      " |  \n",
      " |  union(...)\n",
      " |      Return the union of sets as a new set.\n",
      " |      \n",
      " |      (i.e. all elements that are in either set.)\n",
      " |  \n",
      " |  update(...)\n",
      " |      Update a set with the union of itself and others.\n",
      " |  \n",
      " |  ----------------------------------------------------------------------\n",
      " |  Static methods defined here:\n",
      " |  \n",
      " |  __new__(*args, **kwargs) from builtins.type\n",
      " |      Create and return a new object.  See help(type) for accurate signature.\n",
      " |  \n",
      " |  ----------------------------------------------------------------------\n",
      " |  Data and other attributes defined here:\n",
      " |  \n",
      " |  __hash__ = None\n",
      "\n"
     ]
    }
   ],
   "source": [
    "help(set1)"
   ]
  },
  {
   "cell_type": "markdown",
   "metadata": {},
   "source": [
    "## 1.6 Flow of Control and Some Python Idioms  "
   ]
  },
  {
   "cell_type": "markdown",
   "metadata": {},
   "source": [
    "### 1.6.1 ``for`` loops"
   ]
  },
  {
   "cell_type": "markdown",
   "metadata": {},
   "source": [
    "Using ``for`` loop in Python, we can loop over any *iterable* object. What is an iterable Python object? An iterable is any object capable of returning its members one at a time, permitting it to be iterated over in a ``for`` loop. For example, any sequence such as list, string, and tuple, or even non-sequential collections such as sets and dictionaries are iterable objects. To be precise, to loop over some iterable objects, Python creates a special object known as *iterator* (more on this in Section [1.8](#iterators)). So basically when an object is iterable, under the hood Python creates the iterator object and traverses through the elements. The structure of a ``for`` loop is pretty much straightforward in Python: <a id='forloop'></a>"
   ]
  },
  {
   "cell_type": "code",
   "execution_count": null,
   "metadata": {},
   "outputs": [],
   "source": [
    "for variable in X:\n",
    "    the body of the loop"
   ]
  },
  {
   "cell_type": "markdown",
   "metadata": {},
   "source": [
    "In the above representation of the ``for`` loop sturcture, ``X`` should be either an iterator or an iterable (because it can be converted to an iterator object). It is important to notice the **indentation**. Yes, in Python indentation is menaingful! Basically, code blocks in Python are identified by indentation. At the same time, any statement that should be followed by an indented code block is followed by a colon : (notice the : after the for statement and before the body of the loop).\n",
    "\n",
    "For example to iterate over a list:"
   ]
  },
  {
   "cell_type": "code",
   "execution_count": 157,
   "metadata": {},
   "outputs": [
    {
     "name": "stdout",
     "output_type": "stream",
     "text": [
      "A+\n",
      "A\n",
      "B\n",
      "C+\n",
      "D\n"
     ]
    }
   ],
   "source": [
    "for x in list1:\n",
    "    print(x)"
   ]
  },
  {
   "cell_type": "markdown",
   "metadata": {},
   "source": [
    "Iterate over a string:"
   ]
  },
  {
   "cell_type": "code",
   "execution_count": 158,
   "metadata": {},
   "outputs": [
    {
     "name": "stdout",
     "output_type": "stream",
     "text": [
      "Hi There"
     ]
    }
   ],
   "source": [
    "string = \"Hi There\"\n",
    "for x in string:\n",
    "    print(x, end = \"\") # to print on one line one after another"
   ]
  },
  {
   "cell_type": "markdown",
   "metadata": {},
   "source": [
    "Iterate over a dictionary: "
   ]
  },
  {
   "cell_type": "code",
   "execution_count": 52,
   "metadata": {
    "hide_input": false
   },
   "outputs": [
    {
     "name": "stdout",
     "output_type": "stream",
     "text": [
      "key = 1\n",
      "value = machine\n",
      "\n",
      "key = 2\n",
      "value = learning\n",
      "\n",
      "key = 3\n",
      "value = with python\n",
      "\n"
     ]
    }
   ],
   "source": [
    "dict2 = {1:\"machine\", 2:\"learning\", 3:\"with python\"}\n",
    "for key in dict2: # looping through keys in a dictionary\n",
    "    val = dict2[key]\n",
    "    print('key =', key)\n",
    "    print('value =', val)\n",
    "    print()"
   ]
  },
  {
   "cell_type": "markdown",
   "metadata": {
    "hide_input": true,
    "slideshow": {
     "slide_type": "slide"
    }
   },
   "source": [
    "<img align=\"left\" src=\"images/try_it.png\" alt=\"drawing\" width=\"140\"/><br>\n",
    "\n",
    "As we mentioned in [Dictionaries](#Dictionaries), in the above example, we can replace ``dict2`` with `` dict2.keys()`` and still achieve the same result. Try it!<br>"
   ]
  },
  {
   "cell_type": "code",
   "execution_count": 252,
   "metadata": {
    "hide_input": true
   },
   "outputs": [
    {
     "name": "stdout",
     "output_type": "stream",
     "text": [
      "key = 1\n",
      "value = machine\n",
      "\n",
      "key = 2\n",
      "value = learning\n",
      "\n",
      "key = 3\n",
      "value = with python\n",
      "\n"
     ]
    }
   ],
   "source": [
    "dict2 = {1:\"machine\", 2:\"learning\", 3:\"with python\"}\n",
    "for key in dict2.keys(): # looping through keys in a dictionary\n",
    "    val = dict2[key]\n",
    "    print('key =', key)\n",
    "    print('value =', val)\n",
    "    print()"
   ]
  },
  {
   "cell_type": "markdown",
   "metadata": {
    "hide_input": true,
    "slideshow": {
     "slide_type": "slide"
    }
   },
   "source": [
    "<img align=\"left\" src=\"images/try_it.png\" alt=\"drawing\" width=\"140\"/><br>\n",
    "If you would like to loop through the values in a dictionary, you can use ``values()`` method discussed in [Dictionaries](#Dictionaries). Try to use this method to loop through the values directly and make the first letter in each word upper case (hint: check out ``title()`` method). The output should look like this: <br>"
   ]
  },
  {
   "cell_type": "code",
   "execution_count": 53,
   "metadata": {
    "hide_input": false,
    "scrolled": true
   },
   "outputs": [
    {
     "name": "stdout",
     "output_type": "stream",
     "text": [
      "value = Machine\n",
      "\n",
      "value = Learning\n",
      "\n",
      "value = With Python\n",
      "\n"
     ]
    }
   ],
   "source": [
    "for val in dict2.values(): # looping through values in a dictionary\n",
    "    print('value =', val.title())\n",
    "    print()"
   ]
  },
  {
   "cell_type": "markdown",
   "metadata": {
    "hide_input": false
   },
   "source": [
    "When looping through a dictionary, it is also possible to fetch the keys and values at the same time. For this purpose, you can use the ``items()`` method. This method returns a ``dict_items`` object, which provides a view of all ``(key, value)`` two tuples in a dictionary. Next we use this method along with [sequence unpacking](#unpacking) for a more *Pythonic* implementation of the above exmple. But what do we mean by a *Pythonic* implementation? A code pattern is generally refered to as *Pythonic* if it uses patterns known as *idioms*, which are in fact some acceptable conventions by the Python community to get a task done (for example the sequence packing and unpacking we saw earlier were some idioms):"
   ]
  },
  {
   "cell_type": "code",
   "execution_count": 61,
   "metadata": {
    "hide_input": false
   },
   "outputs": [
    {
     "name": "stdout",
     "output_type": "stream",
     "text": [
      "key = 1\n",
      "value = value for key 20\n",
      "\n",
      "key = (1, 0)\n",
      "value = True\n",
      "\n",
      "key = False\n",
      "value = [100, 50]\n",
      "\n",
      "key = 2.5\n",
      "value = Hello\n",
      "\n",
      "key = 10\n",
      "value = Bye\n",
      "\n"
     ]
    }
   ],
   "source": [
    "for key, val in dict1.items(): \n",
    "    print('key =', key)\n",
    "    print('value =', val)\n",
    "    print()"
   ]
  },
  {
   "cell_type": "markdown",
   "metadata": {},
   "source": [
    "Often you need to iterate over a sequence of numbers. In these cases, it is handy to use ``range()`` constructor that returns a ``range`` object, which is an iterable and, therefore, can be used to create an iterator that is needed in a loop. These are some common ways to use ``range()``:"
   ]
  },
  {
   "cell_type": "code",
   "execution_count": 62,
   "metadata": {},
   "outputs": [
    {
     "name": "stdout",
     "output_type": "stream",
     "text": [
      "i = 0\n",
      "i = 1\n",
      "i = 2\n",
      "i = 3\n",
      "i = 4\n"
     ]
    }
   ],
   "source": [
    "for i in range(5): # the sequence starts from 0 to 4\n",
    "    print('i =', i)"
   ]
  },
  {
   "cell_type": "code",
   "execution_count": 63,
   "metadata": {},
   "outputs": [
    {
     "name": "stdout",
     "output_type": "stream",
     "text": [
      "i = 3\n",
      "i = 4\n",
      "i = 5\n",
      "i = 6\n",
      "i = 7\n"
     ]
    }
   ],
   "source": [
    "for i in range(3,8): # the sequence starts from 3 to 7\n",
    "    print('i =', i)"
   ]
  },
  {
   "cell_type": "code",
   "execution_count": 64,
   "metadata": {},
   "outputs": [
    {
     "name": "stdout",
     "output_type": "stream",
     "text": [
      "i = 3\n",
      "i = 5\n",
      "i = 7\n"
     ]
    }
   ],
   "source": [
    "for i in range(3,8,2): # the sequence starts from 3 to 7 with steps 2\n",
    "    print('i =', i)"
   ]
  },
  {
   "cell_type": "markdown",
   "metadata": {},
   "source": [
    "When looping through a sequence as well, it is also possible to fetch the indecis and their corresponding values at the same. The Pythonic way to do this is to use ``enumerate(iterable, start=0)``, which returns an iterator object that provides the access to indecis and their correspnding values in the form of a two tuple of index-value pair: "
   ]
  },
  {
   "cell_type": "code",
   "execution_count": 68,
   "metadata": {},
   "outputs": [
    {
     "name": "stdout",
     "output_type": "stream",
     "text": [
      "0 Machine\n",
      "1 Learning\n",
      "2 with\n",
      "3 Python\n",
      "4 1.0.0\n"
     ]
    }
   ],
   "source": [
    "for i, v in enumerate(list6): \n",
    "    print(i, v)"
   ]
  },
  {
   "cell_type": "markdown",
   "metadata": {},
   "source": [
    "Compare this with the following (non-Pythonic) way to do the same task:"
   ]
  },
  {
   "cell_type": "code",
   "execution_count": null,
   "metadata": {},
   "outputs": [],
   "source": [
    "i = 0\n",
    "for v in list6:\n",
    "    print (i, v)\n",
    "    i += 1"
   ]
  },
  {
   "cell_type": "code",
   "execution_count": 69,
   "metadata": {},
   "outputs": [
    {
     "name": "stdout",
     "output_type": "stream",
     "text": [
      "1 Machine\n",
      "2 Learning\n",
      "3 with\n",
      "4 Python\n",
      "5 1.0.0\n"
     ]
    }
   ],
   "source": [
    "for i, v in enumerate(list6, start=1): # here we start the count from 1\n",
    "    print(i, v)"
   ]
  },
  {
   "cell_type": "code",
   "execution_count": 70,
   "metadata": {},
   "outputs": [
    {
     "name": "stdout",
     "output_type": "stream",
     "text": [
      "0 Machine\n",
      "1 Learning\n",
      "2 with\n",
      "3 Python\n",
      "4 1.0.0\n"
     ]
    }
   ],
   "source": [
    "for i, v in enumerate(tuple1): # here we use enumerate() on a tuple\n",
    "    print(i, v)"
   ]
  },
  {
   "cell_type": "markdown",
   "metadata": {},
   "source": [
    "You can of course use ``enumerate()`` on sets and dictionaries but remember that these are non-ordered collections so in general it does not make much sense to fetch an index unless you have a very specific application in mind (for example sort some elements first and then fetch the index)."
   ]
  },
  {
   "cell_type": "markdown",
   "metadata": {},
   "source": [
    "Another example of a Python idiom is the use of ``zip()`` function that creates an iterator that aggregates two or more iterable, and then loop over this iterator."
   ]
  },
  {
   "cell_type": "code",
   "execution_count": 71,
   "metadata": {},
   "outputs": [
    {
     "name": "stdout",
     "output_type": "stream",
     "text": [
      "(1, 'a')\n",
      "(2, 'b')\n",
      "(3, 'c')\n",
      "(4, 'd')\n"
     ]
    }
   ],
   "source": [
    "list_a = [1,2,3,4]\n",
    "list_b = ['a','b','c','d']\n",
    "for item in zip(list_a,list_b):\n",
    "    print(item)"
   ]
  },
  {
   "cell_type": "markdown",
   "metadata": {},
   "source": [
    "<img align=\"left\" src=\"images/try_it.png\" alt=\"drawing\" width=\"140\"/><br>\n",
    "\n",
    "In the above example, create a third list known as list_c with elements being 'a1', 'b1', 'c1'. Then use that as ``zip(list_a, list_b, list_c)``. Can you guess what would be the general rule when the iterables have different length?"
   ]
  },
  {
   "cell_type": "markdown",
   "metadata": {
    "hide_input": true
   },
   "source": [
    "<details>\n",
    "    The iterator stops when the iterable with the shortest length is exhausted \n",
    "<details>"
   ]
  },
  {
   "cell_type": "markdown",
   "metadata": {},
   "source": [
    "<img align=\"left\" src=\"images/try_it.png\" alt=\"drawing\" width=\"140\"/><br>\n",
    "We mentioned [previously](#dict_constr) that one way to create dictionaries is to use the ``dict()`` constructor, which works with any iterable object as long as each element is iterable itself with two objects. Assume we have a ``name_list`` of three persons, John, James, Jane. Another list called ``phone_list`` contains their numbers that ae 979, 797, 897 for John, James, and Jane, respectively. Use ``dict()`` and ``zip`` to create a dictionary where keys are names and values are numbers. Why does it work?"
   ]
  },
  {
   "cell_type": "code",
   "execution_count": 1,
   "metadata": {
    "hide_input": false
   },
   "outputs": [
    {
     "data": {
      "text/plain": [
       "{'John': 979, 'James': 797, 'Jane': 897}"
      ]
     },
     "execution_count": 1,
     "metadata": {},
     "output_type": "execute_result"
    }
   ],
   "source": [
    "name_list = ['John', 'James', 'Jane']\n",
    "phone_list = [979, 797, 897]\n",
    "dict3 = dict(zip(name_list, phone_list)) # it works because here we use zip on two lists; therefore, each element of the iterable has two object\n",
    "dict3"
   ]
  },
  {
   "cell_type": "markdown",
   "metadata": {},
   "source": [
    "### 1.6.2 List Comprehension"
   ]
  },
  {
   "cell_type": "markdown",
   "metadata": {},
   "source": [
    "Once you have an iterable, it is often required to perform three operations: \n",
    "    \n",
    "    1) select some elements that meet some conditions; \n",
    "    \n",
    "    2) perform some operations on every element; and\n",
    "    \n",
    "    3) perform some operations on some elements that meet some conditions. \n",
    "    \n",
    "Python has an idiomatic way of doing these, which is known as *list comprehension* (short form *listcomps*). The name list comprehension comes from mathematical set comprehension or abstraction in which we define a set based on the properties of its members. "
   ]
  },
  {
   "cell_type": "markdown",
   "metadata": {},
   "source": [
    "Let us first see this concept by some examples. Suppose you would like to create a list containing square of odd numbers between 1 to 20. A non-Pythonic way to do this is:"
   ]
  },
  {
   "cell_type": "code",
   "execution_count": 231,
   "metadata": {},
   "outputs": [
    {
     "data": {
      "text/plain": [
       "[1, 9, 25, 49, 81, 121, 169, 225, 289, 361]"
      ]
     },
     "execution_count": 231,
     "metadata": {},
     "output_type": "execute_result"
    }
   ],
   "source": [
    "list_odd = [] # start from an empty list\n",
    "for i in range(1, 21):\n",
    "    if i%2 !=0:\n",
    "        list_odd.append(i**2)\n",
    "\n",
    "list_odd"
   ]
  },
  {
   "cell_type": "markdown",
   "metadata": {},
   "source": [
    "List comprehension allows you to combine all this code in one line by combining the list creation, appending, the ``for`` loop, and the condition:"
   ]
  },
  {
   "cell_type": "code",
   "execution_count": 232,
   "metadata": {},
   "outputs": [
    {
     "data": {
      "text/plain": [
       "[1, 9, 25, 49, 81, 121, 169, 225, 289, 361]"
      ]
     },
     "execution_count": 232,
     "metadata": {},
     "output_type": "execute_result"
    }
   ],
   "source": [
    "list_odd_lc = [i**2 for i in range(1, 21) if i%2 !=0]\n",
    "list_odd_lc"
   ]
  },
  {
   "cell_type": "markdown",
   "metadata": {},
   "source": [
    "In plain english, the name ``list_odd_lc`` is the name of the list. This list is created from an expression (``i**2``) within the square brackets. The numbers fed into this expression comes from the ``for`` and ``if`` clause following the expression (note that there is no colon : after the ``for`` or ``if`` statements). Observe the equivalence of this list comprehension with the above \"non-Pythonic\" way to proprely interpret the list comprehension."
   ]
  },
  {
   "cell_type": "markdown",
   "metadata": {},
   "source": [
    "The general syntax of applying listcomps is the following: "
   ]
  },
  {
   "cell_type": "markdown",
   "metadata": {},
   "source": [
    "```python \n",
    "[expression for exp_1 in seq_1\n",
    "            if condition_1\n",
    "            for exp_2 in seq_2\n",
    "            if condition_2\n",
    "            ...\n",
    "            for exp_n in seq_n\n",
    "            if condition_n]          # don't run\n",
    "```"
   ]
  },
  {
   "cell_type": "markdown",
   "metadata": {},
   "source": [
    "<img align=\"left\" src=\"images/try_it.png\" alt=\"drawing\" width=\"140\"/><br>\n",
    "\n",
    "Use the list comprehension to generate a list of two-element tuples of non-equal integers between 0 and 3. The output should look like the following:"
   ]
  },
  {
   "cell_type": "code",
   "execution_count": 251,
   "metadata": {
    "hide_input": false
   },
   "outputs": [
    {
     "data": {
      "text/plain": [
       "[(0, 1),\n",
       " (0, 2),\n",
       " (0, 3),\n",
       " (1, 0),\n",
       " (1, 2),\n",
       " (1, 3),\n",
       " (2, 0),\n",
       " (2, 1),\n",
       " (2, 3),\n",
       " (3, 0),\n",
       " (3, 1),\n",
       " (3, 2)]"
      ]
     },
     "execution_count": 251,
     "metadata": {},
     "output_type": "execute_result"
    }
   ],
   "source": [
    "list_non_equal_tuples = [(x, y) for x in range(4) for y in range(4) if x != y]\n",
    "list_non_equal_tuples"
   ]
  },
  {
   "cell_type": "markdown",
   "metadata": {},
   "source": [
    "### 1.6.3 ``if-elif-else`` "
   ]
  },
  {
   "cell_type": "markdown",
   "metadata": {},
   "source": [
    "The conditional statements are implemented by ``if-elif-else`` statement:"
   ]
  },
  {
   "cell_type": "code",
   "execution_count": 58,
   "metadata": {},
   "outputs": [
    {
     "name": "stdout",
     "output_type": "stream",
     "text": [
      "Well, just Python there.\n"
     ]
    },
    {
     "data": {
      "text/plain": [
       "False"
      ]
     },
     "execution_count": 58,
     "metadata": {},
     "output_type": "execute_result"
    }
   ],
   "source": [
    "list4 = [\"Machine\", \"Learning\", \"with\", \"Python\"]\n",
    "if \"java\" in list4:\n",
    "    print(\"There is java too!\")\n",
    "elif \"C++\" in list4:\n",
    "    print(\"There is C++ too!\")\n",
    "else:\n",
    "    print(\"Well, just Python there.\")\n"
   ]
  },
  {
   "cell_type": "markdown",
   "metadata": {},
   "source": [
    "In these statements, the use of ``else`` or ``elif`` is optional. "
   ]
  },
  {
   "cell_type": "markdown",
   "metadata": {},
   "source": [
    "## 1.7 Function, Module, Package, and Alias"
   ]
  },
  {
   "cell_type": "markdown",
   "metadata": {},
   "source": [
    "### 1.7.1 Functions"
   ]
  },
  {
   "cell_type": "markdown",
   "metadata": {},
   "source": [
    "Functions are simply blocks of code that are named and do a specific job. Let's first see how we can define a function in Python. "
   ]
  },
  {
   "cell_type": "code",
   "execution_count": 162,
   "metadata": {},
   "outputs": [],
   "source": [
    "def subtract_three_numbers(num1, num2, num3):\n",
    "    result = num1 - num2 - num3\n",
    "    return result\n"
   ]
  },
  {
   "cell_type": "markdown",
   "metadata": {},
   "source": [
    "As you see in the above example, we use ``def`` to define the function named ``subtract_three_numbers`` with three inputs ``num1``, ``num2``, and ``num3`` and then we ``return`` the ``result``. We can use it in our program, for example, as follows:"
   ]
  },
  {
   "cell_type": "code",
   "execution_count": 163,
   "metadata": {},
   "outputs": [
    {
     "name": "stdout",
     "output_type": "stream",
     "text": [
      "6.0\n"
     ]
    }
   ],
   "source": [
    "x = subtract_three_numbers(10, 3.0, 1) \n",
    "print(x)"
   ]
  },
  {
   "cell_type": "markdown",
   "metadata": {},
   "source": [
    "In the above example, we called the function using *positional arguments* (also sometimes simply referred to arguments); that is to say, Python matches the arguments in the function call with the parameters in the function definition by the order of arguments provided (the first argument with the first parameter, second with second, ...). However, Python also supports *keyword arguments* in which the arguments are passed by the parameter names. In this case, the order of keyword arguments does not matter as long as they come after any positional arguments (and note that the definition of function remains the same): "
   ]
  },
  {
   "cell_type": "code",
   "execution_count": 164,
   "metadata": {},
   "outputs": [
    {
     "name": "stdout",
     "output_type": "stream",
     "text": [
      "6.0\n"
     ]
    }
   ],
   "source": [
    "x = subtract_three_numbers(num3 = 1, num1 = 10, num2 = 3.0) \n",
    "print(x)"
   ]
  },
  {
   "cell_type": "markdown",
   "metadata": {
    "hide_input": false
   },
   "source": [
    "<img align=\"left\" src=\"images/try_it.png\" alt=\"drawing\" width=\"140\"/><br>\n",
    "Are these valid codes?<br>\n",
    "``subtract_three_numbers(num3 = 1, num2 = 3.0, 10)``?<br>\n",
    "``subtract_three_numbers(10, num3 = 1, num2 = 3.0)``?<br>\n",
    "``subtract_three_numbers(10, num1 = 1, num2 = 3.0)``?"
   ]
  },
  {
   "cell_type": "markdown",
   "metadata": {},
   "source": [
    "<details>\n",
    "    \n",
    "``subtract_three_numbers(num3 = 1, num2 = 3.0, 10)`` is not a valid code because \"positional argument follows keyword argument\" \n",
    "    \n",
    "``subtract_three_numbers(10, num3 = 1, num2 = 3.0)`` is valid because num1 becomes 10 (positional) and num2 and num3 are keyword args following the positional arg.\n",
    "    \n",
    "``subtract_three_numbers(10, num1 = 1, num2 = 3.0)`` although keyword arguments follow positional argument, multiple values for argument num1 is set; therefore, it is not legitimate\n",
    "<details>"
   ]
  },
  {
   "cell_type": "markdown",
   "metadata": {},
   "source": [
    "In Python, you can ``return`` any data type such as lists, tuples, dictionaries, ... . You can also ``return`` multiple values. They are packed into one tuple and upon returning to the calling environment, we can unpack them if needed:"
   ]
  },
  {
   "cell_type": "code",
   "execution_count": 2,
   "metadata": {},
   "outputs": [
    {
     "data": {
      "text/plain": [
       "(13, 'COOLFUNCTIONS', 'Coolfunctions')"
      ]
     },
     "execution_count": 2,
     "metadata": {},
     "output_type": "execute_result"
    }
   ],
   "source": [
    "def string_func(string):\n",
    "    return len(string), string.upper(), string.title()\n",
    "\n",
    "string_func('coolFunctions') # observe the tuple"
   ]
  },
  {
   "cell_type": "code",
   "execution_count": 3,
   "metadata": {},
   "outputs": [
    {
     "name": "stdout",
     "output_type": "stream",
     "text": [
      "13 COOLFUNCTIONS Coolfunctions\n"
     ]
    }
   ],
   "source": [
    "x, y, z = string_func('coolFunctions') # unpacking\n",
    "print(x, y, z)"
   ]
  },
  {
   "cell_type": "markdown",
   "metadata": {
    "slideshow": {
     "slide_type": "slide"
    }
   },
   "source": [
    "If you pass an object to a function and within the function you modify the object (for example, by calling a method for that object and somehow change the object), the changes will be permanent (and nothing need to be returned):"
   ]
  },
  {
   "cell_type": "code",
   "execution_count": null,
   "metadata": {},
   "outputs": [],
   "source": [
    "def list_mod(inp):\n",
    "    inp.insert(1, 'AB')\n",
    "\n",
    "list7 = [100, 'ML', 200]\n",
    "list_mod(list7)\n",
    "list7 # observe that the changes within the function appears outside the function"
   ]
  },
  {
   "cell_type": "markdown",
   "metadata": {},
   "source": [
    "Sometimes we do not know in advance how many positional or keyword arguments should be passed to the function. In these cases we can use * (or ** ) before a ``paramater_name`` in the function header to make the ``paramater_name`` a tuple (or dictionary) that can store an arbitrary number of positional (or keyword) arguments.  \n",
    "\n",
    "As an example, we define a function that receives the amount of money we can spend for grocery and the name of items we need to buy. The function then prints the amount of money with a message as well as a capitalized acronym (to remember items when we go shopping!) made out of items in the grocery list. As we do not know in advance how many items we need to buy, the function should work with an arbitrary number of items in the grocery list. For this purpose, parameter accepting arbitrary number of arguments should appear last in the function definition:"
   ]
  },
  {
   "cell_type": "code",
   "execution_count": 61,
   "metadata": {},
   "outputs": [
    {
     "name": "stdout",
     "output_type": "stream",
     "text": [
      "You have 40$\n",
      "Your acronym is MBMT\n"
     ]
    }
   ],
   "source": [
    "def grocery_to_do(money, *grocery_items): #the use of * before grocery_items is to allow an arbitrary number of arguments\n",
    "    acronym = ''\n",
    "    for i in grocery_items:\n",
    "        acronym += i[0].title()\n",
    "    print('You have {}$'.format(money)) # this is another way to write \"print('You have ' + str(money) + '$')\" using place holder {}\n",
    "    print('Your acronym is', acronym)\n",
    "\n",
    "grocery_to_do(40, 'milk', 'bread', 'meat', 'tomato')"
   ]
  },
  {
   "cell_type": "markdown",
   "metadata": {},
   "source": [
    "### 1.7.2 Modules and Packages "
   ]
  },
  {
   "cell_type": "markdown",
   "metadata": {},
   "source": [
    "As your programs become longer, it is more convenient to put your functions into a separate file called *module* and then *import* that when you need to use these functions. *Importing* a module within a code makes the content of the module available in that program. This practice makes it easier to maintain and share your programs. Although here we are connecting modules with definition of function (because we just discussed functions), modules can also store multiple classes and variables. "
   ]
  },
  {
   "cell_type": "markdown",
   "metadata": {},
   "source": [
    "To create a module, put the definiton of your function in a file with extension *.py*\n",
    "\n",
    "For example, we create a file called ``module_name.py`` and add definition of functions into that file (for example, ``function_name1``, ``function_name2``, ...). Now to make functions available in our programs that are in the same folder as the module (or, alternatively, the module is part of the PYTHONPATH), I can import this entire module as: "
   ]
  },
  {
   "cell_type": "code",
   "execution_count": null,
   "metadata": {},
   "outputs": [],
   "source": [
    "import module_name # not to be executed"
   ]
  },
  {
   "cell_type": "markdown",
   "metadata": {},
   "source": [
    "If we use this way to load an entire module, then any function within the module will be available through the program  as: "
   ]
  },
  {
   "cell_type": "code",
   "execution_count": null,
   "metadata": {
    "scrolled": true
   },
   "outputs": [],
   "source": [
    "module_name.function_name() # not to be executed"
   ]
  },
  {
   "cell_type": "markdown",
   "metadata": {},
   "source": [
    "However, to avoid writing the name of the module each time we want to use the function, we can ask Python to ``import`` a function (or multiple functions) directly. In this approach, the syntax is:"
   ]
  },
  {
   "cell_type": "code",
   "execution_count": null,
   "metadata": {},
   "outputs": [],
   "source": [
    "from module_name import function_name1, function_name2, ..."
   ]
  },
  {
   "cell_type": "markdown",
   "metadata": {},
   "source": [
    "Let us consider our ``grocery_to_do`` function. I create a module called ``grocery.py`` and add this function into that file. You may say what if our program grows to the extend that we want to also separate and keep multiple modules too? Well, we can create a package. As modules are files containing your functions, packages are folders containing your modules. For example, I have created a folder (package) called ``mlwp`` (in the same directory as this notebook) to which I have added module ``grocery.py``. Similar to what we discussed above, I have various way of importing my package/module/function:"
   ]
  },
  {
   "cell_type": "code",
   "execution_count": 168,
   "metadata": {},
   "outputs": [
    {
     "name": "stdout",
     "output_type": "stream",
     "text": [
      "You have 40$\n",
      "Your acronym is MBMT\n"
     ]
    }
   ],
   "source": [
    "import mlwp.grocery\n",
    "\n",
    "mlwp.grocery.grocery_to_do(40, 'milk', 'bread', 'meat', 'tomato')"
   ]
  },
  {
   "cell_type": "markdown",
   "metadata": {},
   "source": [
    "This ``import`` makes the ``mlwp.grocery`` module available. However, to access the function, we need to use the full name of this module before the function. Another way:"
   ]
  },
  {
   "cell_type": "code",
   "execution_count": 169,
   "metadata": {},
   "outputs": [
    {
     "name": "stdout",
     "output_type": "stream",
     "text": [
      "You have 40$\n",
      "Your acronym is MBMT\n"
     ]
    }
   ],
   "source": [
    "from mlwp import grocery\n",
    "\n",
    "grocery.grocery_to_do(40, 'milk', 'bread', 'meat', 'tomato')"
   ]
  },
  {
   "cell_type": "markdown",
   "metadata": {},
   "source": [
    "This ``import`` makes the module ``grocery`` available with no need for the package name. Here we still need to use the name of ``grocery`` to access ``grocery_to_do``. Another way:"
   ]
  },
  {
   "cell_type": "code",
   "execution_count": 170,
   "metadata": {},
   "outputs": [
    {
     "name": "stdout",
     "output_type": "stream",
     "text": [
      "You have 40$\n",
      "Your acronym is MBMT\n"
     ]
    }
   ],
   "source": [
    "from mlwp.grocery import grocery_to_do \n",
    "\n",
    "grocery_to_do(40, 'milk', 'bread', 'meat', 'tomato')"
   ]
  },
  {
   "cell_type": "markdown",
   "metadata": {},
   "source": [
    "This ``import`` makes ``grocery_to_do`` function directly available (so no need to use the package or module prefix)."
   ]
  },
  {
   "cell_type": "markdown",
   "metadata": {},
   "source": [
    "<img align=\"left\" src=\"images/tip.png\" alt=\"drawing\" width=\"140\"/><br>\n",
    "\n",
    "<br><br>Before Python 3.3, for a folder to be treated as a package it had to have at least one ``__init__.py`` file that in its simplest form could have been even empty file with this name. This file was used so that Python treats that folder as a package. However, this requirement is lifted os of Python 3.3+. For example, see ``mlwp`` folder that does not contain such a file."
   ]
  },
  {
   "cell_type": "markdown",
   "metadata": {},
   "source": [
    "### 1.7.3 Aliases\n",
    "\n",
    "Sometimes we give a *nickname* to a function as soon as we import it and use this nickname throughout our program. Why? Well, one reason is that because it is more convinient! For example, why should we refer to someone named Edward as Ed? Because it is easier. Another reason is to prevent conflicts with some other functions with the same name in our codes. A given nimckname is known as *alias* as we can use the keyword *as* for this purpose. For example,"
   ]
  },
  {
   "cell_type": "code",
   "execution_count": null,
   "metadata": {},
   "outputs": [],
   "source": [
    "from mlwp.grocery import grocery_to_do as gd\n",
    "\n",
    "gd(40, 'milk', 'bread', 'meat', 'tomato')"
   ]
  },
  {
   "cell_type": "markdown",
   "metadata": {},
   "source": [
    "<img align=\"left\" src=\"images/try_it.png\" alt=\"drawing\" width=\"140\"/><br>\n",
    " Once we give an alias to a function, can we still use the original name of the function? To see this, in the above cell, after you rename the function as ``gd``, try to use ``grocery_to_do``. What is your conclusion? Why does it make sense?"
   ]
  },
  {
   "cell_type": "markdown",
   "metadata": {},
   "source": [
    "<details>\n",
    "    No, we can not use the original name. This behaviour make sense because otherwise we might have still conflict with other existing functions with the same name\n",
    "<details>"
   ]
  },
  {
   "cell_type": "markdown",
   "metadata": {},
   "source": [
    "It is also very common to also give a module an alias; for example, here we give an alias to our module:"
   ]
  },
  {
   "cell_type": "code",
   "execution_count": null,
   "metadata": {},
   "outputs": [],
   "source": [
    "from mlwp import grocery as gr\n",
    "\n",
    "gr.grocery_to_do(40, 'milk', 'bread', 'meat', 'tomato')"
   ]
  },
  {
   "cell_type": "markdown",
   "metadata": {},
   "source": [
    "As a result, rather than each time typing the entire name of the module before the function (``grocery.grocery_to_do``), we simply use ``gr.grocery_to_do``. And last but not least, in the following example, we give an alias to the package:"
   ]
  },
  {
   "cell_type": "code",
   "execution_count": null,
   "metadata": {},
   "outputs": [],
   "source": [
    "import mlwp as mp\n",
    "\n",
    "mp.grocery.grocery_to_do(40, 'milk', 'bread', 'meat', 'tomato')"
   ]
  },
  {
   "cell_type": "markdown",
   "metadata": {},
   "source": [
    "## 1.8 Iterator, Generator Function, and Generator Expression <a id='iterators'></a>"
   ]
  },
  {
   "cell_type": "markdown",
   "metadata": {},
   "source": [
    "### 1.8.1 Iterator"
   ]
  },
  {
   "cell_type": "markdown",
   "metadata": {},
   "source": [
    "We mentioned before, within a ``for`` loop, for example, Python creates an *iterator* object from an *iterable* such as list or set. In simple terms, an iterator provides the required functionality needed by the loop (in general by the iteration protocol). But a few questions that we need to answer: \n",
    "\n",
    "* How can we produce an iterator from an iterable? \n",
    "\n",
    "* What is the required functionality in an iteration that the iterator provides? "
   ]
  },
  {
   "cell_type": "markdown",
   "metadata": {},
   "source": [
    "Creating an iterator from an iterable object is quite straightforward. It can be done by passing the iterable as the argument of the built-in function ``iter()``: ``iter(iterable)``. An *iterator* object itself represents a stream of data and provides the access to the *next* object in this stream. This is doable because this special object has a specific method ``__next__()`` that retrives the next item in this stream (this is also doable by passing an iterator object to the built-in function ``next()``, which actually calls the ``__next__()`` method). Once there is no more data in the stream, the ``__next__()`` raises ``StopIteration`` exception, which means the iterator is exhuasted and no further item is produced by the iterator (and any further call to ``__next__()`` will raise ``StopIteration`` exception). Let us examine these concepts starting with an iterable (here a list):"
   ]
  },
  {
   "cell_type": "markdown",
   "metadata": {},
   "source": [
    "Creating an iterator from an iterable object is quite straightforward. It can be done by passing the iterable as the argument of the built-in function ``iter()``: ``iter(iterable)``. An *iterator* object itself represents a stream of data and provides the access to the *next* object in this stream. This is doable because this special object has a specific method ``__next__()`` that retrives the next item in this stream (this is also doable by passing an iterator object to the built-in function ``next()``, which actually calls the ``__next__()`` method). Once there is no more data in the stream, the ``__next__()`` raises ``StopIteration`` exception, which means the iterator is exhuasted and no further item is produced by the iterator (and any further call to ``__next__()`` will raise ``StopIteration`` exception). Let us examine these concepts starting with an iterable (here a list):"
   ]
  },
  {
   "cell_type": "code",
   "execution_count": 4,
   "metadata": {},
   "outputs": [
    {
     "data": {
      "text/plain": [
       "<list_iterator at 0x7fac0582f7f0>"
      ]
     },
     "execution_count": 4,
     "metadata": {},
     "output_type": "execute_result"
    }
   ],
   "source": [
    "list_a = ['a', 'b', 'c', 'd']\n",
    "iter_a = iter(list_a)\n",
    "iter_a"
   ]
  },
  {
   "cell_type": "code",
   "execution_count": 5,
   "metadata": {},
   "outputs": [
    {
     "data": {
      "text/plain": [
       "'a'"
      ]
     },
     "execution_count": 5,
     "metadata": {},
     "output_type": "execute_result"
    }
   ],
   "source": [
    "next(iter_a) # here we access the first element by passing the iterator to the next() function for the first time (similar to iter_a.__next__())"
   ]
  },
  {
   "cell_type": "code",
   "execution_count": 6,
   "metadata": {},
   "outputs": [
    {
     "data": {
      "text/plain": [
       "'b'"
      ]
     },
     "execution_count": 6,
     "metadata": {},
     "output_type": "execute_result"
    }
   ],
   "source": [
    "iter_a.__next__() # here we access the next element using __next__() method"
   ]
  },
  {
   "cell_type": "code",
   "execution_count": 7,
   "metadata": {},
   "outputs": [
    {
     "data": {
      "text/plain": [
       "'c'"
      ]
     },
     "execution_count": 7,
     "metadata": {},
     "output_type": "execute_result"
    }
   ],
   "source": [
    "next(iter_a)"
   ]
  },
  {
   "cell_type": "code",
   "execution_count": 8,
   "metadata": {},
   "outputs": [
    {
     "data": {
      "text/plain": [
       "'d'"
      ]
     },
     "execution_count": 8,
     "metadata": {},
     "output_type": "execute_result"
    }
   ],
   "source": [
    "next(iter_a)"
   ]
  },
  {
   "cell_type": "code",
   "execution_count": 9,
   "metadata": {},
   "outputs": [
    {
     "ename": "StopIteration",
     "evalue": "",
     "output_type": "error",
     "traceback": [
      "\u001b[0;31m---------------------------------------------------------------------------\u001b[0m",
      "\u001b[0;31mStopIteration\u001b[0m                             Traceback (most recent call last)",
      "\u001b[0;32m/var/folders/vy/894wbsn11db_lqf17ys9fvdm0000gn/T/ipykernel_14737/3255143482.py\u001b[0m in \u001b[0;36m<module>\u001b[0;34m\u001b[0m\n\u001b[0;32m----> 1\u001b[0;31m \u001b[0mnext\u001b[0m\u001b[0;34m(\u001b[0m\u001b[0miter_a\u001b[0m\u001b[0;34m)\u001b[0m\u001b[0;34m\u001b[0m\u001b[0;34m\u001b[0m\u001b[0m\n\u001b[0m",
      "\u001b[0;31mStopIteration\u001b[0m: "
     ]
    }
   ],
   "source": [
    "next(iter_a)"
   ]
  },
  {
   "cell_type": "markdown",
   "metadata": {},
   "source": [
    "Now, I would like to go back to what we said before in Section [1.6.1](#forloop); that is, the general structure of a ``for`` loop is:"
   ]
  },
  {
   "cell_type": "code",
   "execution_count": null,
   "metadata": {},
   "outputs": [],
   "source": [
    "for variable in X:\n",
    "    the body of the loop"
   ]
  },
  {
   "cell_type": "markdown",
   "metadata": {},
   "source": [
    "<a id='forloopnext'></a>where ``X`` is either an iterator or an iterable. What happens as part of the ``for`` loop is that the ``iter()`` is applied to ``X`` so that if ``X`` is an iterable, an iterator is created. Then the ``next()`` method is applied indefinitly to the iterator until it is exhausted in which case the loop ends. "
   ]
  },
  {
   "cell_type": "markdown",
   "metadata": {},
   "source": [
    "One last point: iterators don’t need to be finite. We can have iterators that produce an infinite stream of data; for example, see ``itertools.repeat()``: https://docs.python.org/3/library/itertools.html#itertools.repeat"
   ]
  },
  {
   "cell_type": "markdown",
   "metadata": {},
   "source": [
    "### <font color='red'>$\\bigoplus$ 1.8.2 Generator Function"
   ]
  },
  {
   "cell_type": "markdown",
   "metadata": {},
   "source": [
    "### <font color='red'>$\\bigoplus$ 1.8.3 Generator Expression"
   ]
  },
  {
   "cell_type": "markdown",
   "metadata": {},
   "source": [
    "### References:"
   ]
  },
  {
   "cell_type": "markdown",
   "metadata": {},
   "source": [
    "[1] L. Ramalho, Fluent Python, O'Reilly, 2015."
   ]
  }
 ],
 "metadata": {
  "kernelspec": {
   "display_name": "Python 3 (ipykernel)",
   "language": "python",
   "name": "python3"
  },
  "language_info": {
   "codemirror_mode": {
    "name": "ipython",
    "version": 3
   },
   "file_extension": ".py",
   "mimetype": "text/x-python",
   "name": "python",
   "nbconvert_exporter": "python",
   "pygments_lexer": "ipython3",
   "version": "3.8.12"
  }
 },
 "nbformat": 4,
 "nbformat_minor": 4
}
